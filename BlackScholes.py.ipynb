{
 "cells": [
  {
   "cell_type": "code",
   "execution_count": 101,
   "metadata": {
    "collapsed": true
   },
   "outputs": [],
   "source": [
    "import numpy as np\n",
    "import scipy.integrate as integrate\n",
    "from math import fabs, sqrt, log, exp, pi\n",
    "from scipy.stats import norm\n",
    "import matplotlib.pyplot as plt"
   ]
  },
  {
   "cell_type": "code",
   "execution_count": 102,
   "metadata": {
    "collapsed": true
   },
   "outputs": [],
   "source": [
    "%matplotlib inline"
   ]
  },
  {
   "cell_type": "code",
   "execution_count": 103,
   "metadata": {},
   "outputs": [],
   "source": [
    "# Cumulative Distribution of the standard normal variable N(z)\n",
    "# From \"A Primer for the Mathematics of Financial Engineering - Stefanica\"\n",
    "def cdiststd(t):\n",
    "  z = fabs(t)\n",
    "  y = 1/(1+0.2316419*z)\n",
    "  a1 = 0.319381530\n",
    "  a2 = -0.356563782\n",
    "  a3 = 1.781477937\n",
    "  a4 = -1.821255978\n",
    "  a5 = 1.330274429\n",
    "  ae = a1*y + a2*y**2 + a3*y**3 + a4*y**4 + a5*y**5\n",
    "  m = 1 - exp(-t**2/2) * ae / sqrt(2*pi)\n",
    "  if t > 0:\n",
    "    return m\n",
    "  else:\n",
    "    return 1 - m"
   ]
  },
  {
   "cell_type": "code",
   "execution_count": 183,
   "metadata": {
    "collapsed": true
   },
   "outputs": [],
   "source": [
    "# The above function is available in scipy.stats\n",
    "# Note (see timeit study below - the book cdf approximation is very good and about 30 times! faster than scipy cdf)\n",
    "def cdfnorm(t):\n",
    "    return norm.cdf(t)"
   ]
  },
  {
   "cell_type": "code",
   "execution_count": 105,
   "metadata": {
    "collapsed": true
   },
   "outputs": [],
   "source": [
    "#\n",
    "# t = current time, T = maturity time (in fractional year, 6mo = .5)\n",
    "# S = spot price of underlying at time (t)\n",
    "# K = strike price of option at time (t)\n",
    "# T = maturity time. (T-t) is time to maturity.\n",
    "# s = stddev of underlying asset price price. (debatable as to over which period calculated over*)\n",
    "# r = risk free interest rate. (assumed steady. Also debatable over which period calculated over*)\n",
    "# q = dividend rate paid on underlying asset. (assumed fixed. could be derived from GM of past dividends*)\n",
    "#\n",
    "# *IMHOP\n",
    "#\n",
    "# Returns Call price and Put price.\n",
    "#\n",
    "def black(t,S,K,T,s,r,q,cdf):\n",
    "  d1 = (log(S/K)+(r-q+s**2/2)*(T-t))/(s*sqrt(T-t))\n",
    "  d2 = d1 - s*sqrt(T-t)\n",
    "  C = S*exp(-q*(T-t))*cdf(d1) - K*exp(-r*(T-t))*cdf(d2)\n",
    "  P = K*exp(-r*(T-t))*cdf(-d2) - S*exp(-q*(T-t))*cdf(-d1)\n",
    "  return (C,P) \n"
   ]
  },
  {
   "cell_type": "code",
   "execution_count": 107,
   "metadata": {},
   "outputs": [],
   "source": [
    "x = np.linspace(0,1,num=20)"
   ]
  },
  {
   "cell_type": "code",
   "execution_count": 113,
   "metadata": {},
   "outputs": [],
   "source": [
    "y = np.array([cdiststd(x) for x in x])"
   ]
  },
  {
   "cell_type": "code",
   "execution_count": 114,
   "metadata": {},
   "outputs": [
    {
     "data": {
      "text/plain": [
       "[<matplotlib.lines.Line2D at 0x1a1dddf438>]"
      ]
     },
     "execution_count": 114,
     "metadata": {},
     "output_type": "execute_result"
    },
    {
     "data": {
      "image/png": "[encoded data removed]",
      "text/plain": [
       "<Figure size 432x288 with 1 Axes>"
      ]
     },
     "metadata": {},
     "output_type": "display_data"
    }
   ],
   "source": [
    "plt.plot(x,y)"
   ]
  },
  {
   "cell_type": "code",
   "execution_count": 115,
   "metadata": {},
   "outputs": [],
   "source": [
    "ynorm = np.array([norm.cdf(x) for x in x])"
   ]
  },
  {
   "cell_type": "code",
   "execution_count": 151,
   "metadata": {},
   "outputs": [
    {
     "data": {
      "text/plain": [
       "[<matplotlib.lines.Line2D at 0x1a1e48a2e8>]"
      ]
     },
     "execution_count": 151,
     "metadata": {},
     "output_type": "execute_result"
    },
    {
     "data": {
      "image/png": "[encoded data removed]",
      "text/plain": [
       "<Figure size 432x288 with 1 Axes>"
      ]
     },
     "metadata": {},
     "output_type": "display_data"
    }
   ],
   "source": [
    "plt.plot(x,ynorm)"
   ]
  },
  {
   "cell_type": "code",
   "execution_count": 152,
   "metadata": {
    "collapsed": true
   },
   "outputs": [],
   "source": [
    "import timeit"
   ]
  },
  {
   "cell_type": "code",
   "execution_count": 184,
   "metadata": {},
   "outputs": [
    {
     "name": "stdout",
     "output_type": "stream",
     "text": [
      "cdf runtime comparison: timescipy / timebook: 29.07721864715777\n"
     ]
    }
   ],
   "source": [
    "import timeit\n",
    "timebook = timeit.timeit('np.array([cdiststd(x) for x in np.linspace(0,1,num=20)])',\n",
    "              setup=\"import numpy as np;from __main__ import cdiststd\",\n",
    "              number=100)\n",
    "timescipy = timeit.timeit('np.array([norm.cdf(x) for x in np.linspace(0,1,num=20)])',\n",
    "              setup=\"import numpy as np;from scipy.stats import norm\",\n",
    "              number=100)\n",
    "print(f\"cdf runtime comparison: timescipy / timebook: {timescipy/timebook}\")\n"
   ]
  },
  {
   "cell_type": "code",
   "execution_count": 178,
   "metadata": {},
   "outputs": [
    {
     "name": "stdout",
     "output_type": "stream",
     "text": [
      "rmse of book cdf to scypi cdf: 4.682577271682222e-14\n"
     ]
    }
   ],
   "source": [
    "print(f'rmse of book cdf to scypi cdf: {sum((y-ynorm)**2).mean()}')"
   ]
  },
  {
   "cell_type": "code",
   "execution_count": 174,
   "metadata": {},
   "outputs": [
    {
     "data": {
      "text/plain": [
       "(4.705325237643848, 2.343020255448522)"
      ]
     },
     "execution_count": 174,
     "metadata": {},
     "output_type": "execute_result"
    }
   ],
   "source": [
    "black(0,42,40,.5,.3,.05,.03,cdiststd)"
   ]
  },
  {
   "cell_type": "code",
   "execution_count": 175,
   "metadata": {},
   "outputs": [
    {
     "data": {
      "text/plain": [
       "(4.7053274115128225, 2.3430224293174966)"
      ]
     },
     "execution_count": 175,
     "metadata": {},
     "output_type": "execute_result"
    }
   ],
   "source": [
    "black(0,42,40,.5,.3,.05,.03,cdfnorm)"
   ]
  },
  {
   "cell_type": "code",
   "execution_count": 119,
   "metadata": {},
   "outputs": [
    {
     "data": {
      "text/plain": [
       "(0.8820813907624215, 9.793070696178202e-15)"
      ]
     },
     "execution_count": 119,
     "metadata": {},
     "output_type": "execute_result"
    }
   ],
   "source": [
    "integrate.quad(lambda x: exp(-x**2),0,2)"
   ]
  },
  {
   "cell_type": "code",
   "execution_count": null,
   "metadata": {
    "collapsed": true
   },
   "outputs": [],
   "source": []
  }
 ],
 "metadata": {
  "kernelspec": {
   "display_name": "Python 3",
   "language": "python",
   "name": "python3"
  },
  "language_info": {
   "codemirror_mode": {
    "name": "ipython",
    "version": 3
   },
   "file_extension": ".py",
   "mimetype": "text/x-python",
   "name": "python",
   "nbconvert_exporter": "python",
   "pygments_lexer": "ipython3",
   "version": "3.6.8"
  }
 },
 "nbformat": 4,
 "nbformat_minor": 2
}
