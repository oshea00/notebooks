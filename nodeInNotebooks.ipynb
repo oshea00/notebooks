{
 "cells": [
  {
   "cell_type": "code",
   "execution_count": 4,
   "metadata": {},
   "outputs": [],
   "source": [
    "# !pip install pixiedust"
   ]
  },
  {
   "cell_type": "code",
   "execution_count": 5,
   "metadata": {},
   "outputs": [],
   "source": [
    "# !pip install pixiedust_node"
   ]
  },
  {
   "cell_type": "code",
   "execution_count": 1,
   "metadata": {},
   "outputs": [
    {
     "name": "stdout",
     "output_type": "stream",
     "text": [
      "Pixiedust database opened successfully\n"
     ]
    },
    {
     "data": {
      "text/html": [
       "\n",
       "        <div style=\"margin:10px\">\n",
       "            <a href=\"https://github.com/ibm-watson-data-lab/pixiedust\" target=\"_new\">\n",
       "                <img src=\"https://github.com/ibm-watson-data-lab/pixiedust/raw/master/docs/_static/pd_icon32.png\" style=\"float:left;margin-right:10px\"/>\n",
       "            </a>\n",
       "            <span>Pixiedust version 1.1.9</span>\n",
       "        </div>\n",
       "        "
      ],
      "text/plain": [
       "<IPython.core.display.HTML object>"
      ]
     },
     "metadata": {},
     "output_type": "display_data"
    },
    {
     "data": {
      "text/html": [
       "\n",
       "            <div style=\"margin:10px\"> \n",
       "            <a href=\"https://github.com/ibm-cds-labs/pixiedust_node\" target=\"_new\"> \n",
       "            <img src=\"https://github.com/ibm-cds-labs/pixiedust_node/raw/master/docs/_images/pdn_icon32.png\" style=\"float:left;margin-right:10px\"/> \n",
       "            </a> \n",
       "            <span>Pixiedust Node.js</span> \n",
       "            </div> \n"
      ],
      "text/plain": [
       "<IPython.core.display.HTML object>"
      ]
     },
     "metadata": {},
     "output_type": "display_data"
    },
    {
     "name": "stdout",
     "output_type": "stream",
     "text": [
      "pixiedust_node 0.2.5 started. Cells starting '%%node' may contain Node.js code.\n"
     ]
    }
   ],
   "source": [
    "import pixiedust_node"
   ]
  },
  {
   "cell_type": "code",
   "execution_count": 2,
   "metadata": {},
   "outputs": [
    {
     "name": "stdout",
     "output_type": "stream",
     "text": [
      "\"2018-04-14T08:44:33.672Z\"\n"
     ]
    }
   ],
   "source": [
    "%%node\n",
    "var date = new Date();\n",
    "print(date);"
   ]
  },
  {
   "cell_type": "code",
   "execution_count": 3,
   "metadata": {
    "pixiedust": {
     "displayParams": {
      "handlerId": "lineChart",
      "keyFields": "cos",
      "title": "Test Chart"
     }
    }
   },
   "outputs": [
    {
     "data": {
      "text/html": [
       "<style type=\"text/css\">.pd_warning{display:none;}</style><div class=\"pd_warning\"><em>Hey, there's something awesome here! To see it, open this notebook outside GitHub, in a viewer like Jupyter</em></div>\n",
       "        <div class=\"pd_save is-viewer-good\" style=\"padding-right:10px;text-align: center;line-height:initial !important;font-size: xx-large;font-weight: 500;color: coral;\">\n",
       "            Test Chart\n",
       "        </div>\n",
       "    <div id=\"chartFigure27c0f3ac\" class=\"pd_save is-viewer-good\" style=\"overflow-x:auto\">\n",
       "            \n",
       "                    \n",
       "                            <center><img style=\"max-width:initial !important\" src=\"data:image/png;base64,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\" class=\"pd_save\"></center>\n",
       "                        \n",
       "                    \n",
       "                \n",
       "        </div>"
      ],
      "text/plain": [
       "<IPython.core.display.HTML object>"
      ]
     },
     "metadata": {},
     "output_type": "display_data"
    }
   ],
   "source": [
    "%%node\n",
    "var data = [];\n",
    "for (var i = 0; i < 1000; i++) {\n",
    "    var x = 2*Math.PI * i/ 360;\n",
    "    var obj = {\n",
    "      x: x,\n",
    "      i: i,\n",
    "      sin: Math.sin(x),\n",
    "      cos: Math.cos(x),\n",
    "      tan: Math.tan(x)\n",
    "    };\n",
    "    data.push(obj);\n",
    "}\n",
    "display(data);"
   ]
  },
  {
   "cell_type": "code",
   "execution_count": null,
   "metadata": {
    "collapsed": true
   },
   "outputs": [],
   "source": []
  }
 ],
 "metadata": {
  "kernelspec": {
   "display_name": "Python 3",
   "language": "python",
   "name": "python3"
  },
  "language_info": {
   "codemirror_mode": {
    "name": "ipython",
    "version": 3
   },
   "file_extension": ".py",
   "mimetype": "text/x-python",
   "name": "python",
   "nbconvert_exporter": "python",
   "pygments_lexer": "ipython3",
   "version": "3.6.2"
  }
 },
 "nbformat": 4,
 "nbformat_minor": 2
}
