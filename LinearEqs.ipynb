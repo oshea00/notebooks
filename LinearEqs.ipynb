{
 "cells": [
  {
   "cell_type": "code",
   "execution_count": 28,
   "metadata": {
    "collapsed": true
   },
   "outputs": [],
   "source": [
    "from numpy import matrix\n",
    "import pandas as pd"
   ]
  },
  {
   "cell_type": "code",
   "execution_count": 27,
   "metadata": {},
   "outputs": [
    {
     "name": "stdout",
     "output_type": "stream",
     "text": [
      "piston = 10.0, tire = 5.0, shocks = 2.0\n",
      "Answer:  tire + shocks/2 * piston = 15.0\n"
     ]
    }
   ],
   "source": [
    "x = matrix([[3,0,0],[1,2,0],[0,1,2]])\n",
    "y = matrix([[30],[20],[9]])\n",
    "A = x.I * y\n",
    "piston, tire, shocks = A[0,0], A[1,0], A[2,0]\n",
    "print(f'piston = {piston}, tire = {tire}, shocks = {shocks}')\n",
    "print(f'Answer:  tire + shocks/2 * piston = {tire + shocks/2 * piston}')"
   ]
  },
  {
   "cell_type": "code",
   "execution_count": 32,
   "metadata": {},
   "outputs": [],
   "source": [
    "sp500df = pd.read_csv('~/Downloads/^GSPC.csv')"
   ]
  },
  {
   "cell_type": "code",
   "execution_count": 33,
   "metadata": {
    "collapsed": true
   },
   "outputs": [],
   "source": [
    "aapl = pd.read_csv('~/Downloads/AAPL.csv')"
   ]
  },
  {
   "cell_type": "code",
   "execution_count": 42,
   "metadata": {},
   "outputs": [
    {
     "data": {
      "text/html": [
       "<div>\n",
       "<style scoped>\n",
       "    .dataframe tbody tr th:only-of-type {\n",
       "        vertical-align: middle;\n",
       "    }\n",
       "\n",
       "    .dataframe tbody tr th {\n",
       "        vertical-align: top;\n",
       "    }\n",
       "\n",
       "    .dataframe thead th {\n",
       "        text-align: right;\n",
       "    }\n",
       "</style>\n",
       "<table border=\"1\" class=\"dataframe\">\n",
       "  <thead>\n",
       "    <tr style=\"text-align: right;\">\n",
       "      <th></th>\n",
       "      <th>Open</th>\n",
       "      <th>High</th>\n",
       "      <th>Low</th>\n",
       "      <th>Close</th>\n",
       "      <th>Adj Close</th>\n",
       "      <th>Volume</th>\n",
       "    </tr>\n",
       "  </thead>\n",
       "  <tbody>\n",
       "    <tr>\n",
       "      <th>count</th>\n",
       "      <td>21.000000</td>\n",
       "      <td>21.000000</td>\n",
       "      <td>21.000000</td>\n",
       "      <td>21.000000</td>\n",
       "      <td>21.000000</td>\n",
       "      <td>2.100000e+01</td>\n",
       "    </tr>\n",
       "    <tr>\n",
       "      <th>mean</th>\n",
       "      <td>165.677144</td>\n",
       "      <td>167.256667</td>\n",
       "      <td>164.219048</td>\n",
       "      <td>165.836666</td>\n",
       "      <td>165.406062</td>\n",
       "      <td>2.969061e+07</td>\n",
       "    </tr>\n",
       "    <tr>\n",
       "      <th>std</th>\n",
       "      <td>7.131651</td>\n",
       "      <td>7.304107</td>\n",
       "      <td>7.750991</td>\n",
       "      <td>7.540950</td>\n",
       "      <td>7.700676</td>\n",
       "      <td>9.568087e+06</td>\n",
       "    </tr>\n",
       "    <tr>\n",
       "      <th>min</th>\n",
       "      <td>154.110001</td>\n",
       "      <td>154.479996</td>\n",
       "      <td>151.699997</td>\n",
       "      <td>152.699997</td>\n",
       "      <td>152.047897</td>\n",
       "      <td>1.896210e+07</td>\n",
       "    </tr>\n",
       "    <tr>\n",
       "      <th>25%</th>\n",
       "      <td>156.410004</td>\n",
       "      <td>158.130005</td>\n",
       "      <td>154.320007</td>\n",
       "      <td>157.759995</td>\n",
       "      <td>157.086288</td>\n",
       "      <td>2.313060e+07</td>\n",
       "    </tr>\n",
       "    <tr>\n",
       "      <th>50%</th>\n",
       "      <td>168.990005</td>\n",
       "      <td>171.000000</td>\n",
       "      <td>168.419998</td>\n",
       "      <td>170.179993</td>\n",
       "      <td>170.179993</td>\n",
       "      <td>2.619210e+07</td>\n",
       "    </tr>\n",
       "    <tr>\n",
       "      <th>75%</th>\n",
       "      <td>171.190002</td>\n",
       "      <td>171.699997</td>\n",
       "      <td>169.750000</td>\n",
       "      <td>170.929993</td>\n",
       "      <td>170.800003</td>\n",
       "      <td>3.266810e+07</td>\n",
       "    </tr>\n",
       "    <tr>\n",
       "      <th>max</th>\n",
       "      <td>174.649994</td>\n",
       "      <td>175.570007</td>\n",
       "      <td>172.850006</td>\n",
       "      <td>174.240005</td>\n",
       "      <td>173.495911</td>\n",
       "      <td>6.110980e+07</td>\n",
       "    </tr>\n",
       "  </tbody>\n",
       "</table>\n",
       "</div>"
      ],
      "text/plain": [
       "             Open        High         Low       Close   Adj Close  \\\n",
       "count   21.000000   21.000000   21.000000   21.000000   21.000000   \n",
       "mean   165.677144  167.256667  164.219048  165.836666  165.406062   \n",
       "std      7.131651    7.304107    7.750991    7.540950    7.700676   \n",
       "min    154.110001  154.479996  151.699997  152.699997  152.047897   \n",
       "25%    156.410004  158.130005  154.320007  157.759995  157.086288   \n",
       "50%    168.990005  171.000000  168.419998  170.179993  170.179993   \n",
       "75%    171.190002  171.699997  169.750000  170.929993  170.800003   \n",
       "max    174.649994  175.570007  172.850006  174.240005  173.495911   \n",
       "\n",
       "             Volume  \n",
       "count  2.100000e+01  \n",
       "mean   2.969061e+07  \n",
       "std    9.568087e+06  \n",
       "min    1.896210e+07  \n",
       "25%    2.313060e+07  \n",
       "50%    2.619210e+07  \n",
       "75%    3.266810e+07  \n",
       "max    6.110980e+07  "
      ]
     },
     "execution_count": 42,
     "metadata": {},
     "output_type": "execute_result"
    }
   ],
   "source": [
    "aapl.describe()"
   ]
  },
  {
   "cell_type": "code",
   "execution_count": 52,
   "metadata": {},
   "outputs": [],
   "source": [
    "bench = pd.DataFrame({'sp500': sp500df['Adj Close'],'aapl': aapl['Adj Close']})"
   ]
  },
  {
   "cell_type": "code",
   "execution_count": 69,
   "metadata": {},
   "outputs": [],
   "source": [
    "cor = bench.corr().iloc[0,1]"
   ]
  },
  {
   "cell_type": "code",
   "execution_count": 55,
   "metadata": {},
   "outputs": [
    {
     "data": {
      "text/html": [
       "<div>\n",
       "<style scoped>\n",
       "    .dataframe tbody tr th:only-of-type {\n",
       "        vertical-align: middle;\n",
       "    }\n",
       "\n",
       "    .dataframe tbody tr th {\n",
       "        vertical-align: top;\n",
       "    }\n",
       "\n",
       "    .dataframe thead th {\n",
       "        text-align: right;\n",
       "    }\n",
       "</style>\n",
       "<table border=\"1\" class=\"dataframe\">\n",
       "  <thead>\n",
       "    <tr style=\"text-align: right;\">\n",
       "      <th></th>\n",
       "      <th>aapl</th>\n",
       "      <th>sp500</th>\n",
       "    </tr>\n",
       "  </thead>\n",
       "  <tbody>\n",
       "    <tr>\n",
       "      <th>count</th>\n",
       "      <td>21.000000</td>\n",
       "      <td>21.000000</td>\n",
       "    </tr>\n",
       "    <tr>\n",
       "      <th>mean</th>\n",
       "      <td>165.406062</td>\n",
       "      <td>2707.413353</td>\n",
       "    </tr>\n",
       "    <tr>\n",
       "      <th>std</th>\n",
       "      <td>7.700676</td>\n",
       "      <td>49.109109</td>\n",
       "    </tr>\n",
       "    <tr>\n",
       "      <th>min</th>\n",
       "      <td>152.047897</td>\n",
       "      <td>2632.899902</td>\n",
       "    </tr>\n",
       "    <tr>\n",
       "      <th>25%</th>\n",
       "      <td>157.086288</td>\n",
       "      <td>2664.760010</td>\n",
       "    </tr>\n",
       "    <tr>\n",
       "      <th>50%</th>\n",
       "      <td>170.179993</td>\n",
       "      <td>2707.879883</td>\n",
       "    </tr>\n",
       "    <tr>\n",
       "      <th>75%</th>\n",
       "      <td>170.800003</td>\n",
       "      <td>2744.729980</td>\n",
       "    </tr>\n",
       "    <tr>\n",
       "      <th>max</th>\n",
       "      <td>173.495911</td>\n",
       "      <td>2784.699951</td>\n",
       "    </tr>\n",
       "  </tbody>\n",
       "</table>\n",
       "</div>"
      ],
      "text/plain": [
       "             aapl        sp500\n",
       "count   21.000000    21.000000\n",
       "mean   165.406062  2707.413353\n",
       "std      7.700676    49.109109\n",
       "min    152.047897  2632.899902\n",
       "25%    157.086288  2664.760010\n",
       "50%    170.179993  2707.879883\n",
       "75%    170.800003  2744.729980\n",
       "max    173.495911  2784.699951"
      ]
     },
     "execution_count": 55,
     "metadata": {},
     "output_type": "execute_result"
    }
   ],
   "source": [
    "bench.describe()"
   ]
  },
  {
   "cell_type": "code",
   "execution_count": 75,
   "metadata": {
    "collapsed": true
   },
   "outputs": [],
   "source": [
    "aaplstd = bench.describe().loc['std','aapl']\n",
    "spstd = bench.describe().loc['std','sp500']\n",
    "cov = bench.cov().loc['aapl','sp500']"
   ]
  },
  {
   "cell_type": "code",
   "execution_count": 77,
   "metadata": {},
   "outputs": [
    {
     "data": {
      "text/plain": [
       "'cor = 0.9037923788547363'"
      ]
     },
     "execution_count": 77,
     "metadata": {},
     "output_type": "execute_result"
    }
   ],
   "source": [
    "f'cor = {cov/(aaplstd*spstd)}'"
   ]
  },
  {
   "cell_type": "code",
   "execution_count": 79,
   "metadata": {},
   "outputs": [
    {
     "name": "stdout",
     "output_type": "stream",
     "text": [
      "0.903792378855\n"
     ]
    }
   ],
   "source": [
    "print(cor)"
   ]
  },
  {
   "cell_type": "code",
   "execution_count": 84,
   "metadata": {},
   "outputs": [
    {
     "data": {
      "text/plain": [
       "2411.7046300172706"
      ]
     },
     "execution_count": 84,
     "metadata": {},
     "output_type": "execute_result"
    }
   ],
   "source": [
    "bench['sp500'].var()"
   ]
  },
  {
   "cell_type": "code",
   "execution_count": 95,
   "metadata": {},
   "outputs": [
    {
     "ename": "ImportError",
     "evalue": "cannot import name 'pow'",
     "output_type": "error",
     "traceback": [
      "\u001b[0;31m---------------------------------------------------------------------------\u001b[0m",
      "\u001b[0;31mImportError\u001b[0m                               Traceback (most recent call last)",
      "\u001b[0;32m<ipython-input-95-c14d2e82cf36>\u001b[0m in \u001b[0;36m<module>\u001b[0;34m()\u001b[0m\n\u001b[0;32m----> 1\u001b[0;31m \u001b[0;32mfrom\u001b[0m \u001b[0mnumpy\u001b[0m \u001b[0;32mimport\u001b[0m \u001b[0msqrt\u001b[0m\u001b[0;34m,\u001b[0m \u001b[0mpow\u001b[0m\u001b[0;34m\u001b[0m\u001b[0m\n\u001b[0m",
      "\u001b[0;31mImportError\u001b[0m: cannot import name 'pow'"
     ]
    }
   ],
   "source": [
    "from numpy import sqrt"
   ]
  },
  {
   "cell_type": "code",
   "execution_count": null,
   "metadata": {
    "collapsed": true
   },
   "outputs": [],
   "source": []
  }
 ],
 "metadata": {
  "kernelspec": {
   "display_name": "Python 3",
   "language": "python",
   "name": "python3"
  },
  "language_info": {
   "codemirror_mode": {
    "name": "ipython",
    "version": 3
   },
   "file_extension": ".py",
   "mimetype": "text/x-python",
   "name": "python",
   "nbconvert_exporter": "python",
   "pygments_lexer": "ipython3",
   "version": "3.6.2"
  }
 },
 "nbformat": 4,
 "nbformat_minor": 2
}
