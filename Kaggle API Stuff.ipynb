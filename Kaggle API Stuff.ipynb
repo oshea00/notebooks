{
 "cells": [
  {
   "cell_type": "markdown",
   "metadata": {},
   "source": [
    "# Kaggle API Stuff"
   ]
  },
  {
   "cell_type": "markdown",
   "metadata": {},
   "source": [
    "This shows a little how to use the kaggle api in a notebook. The 'kaggle' command line is good for shell scripts, but I wanted to load data directly into Pandas dataframes and do some analysis. This assumes you have already installed and configured the api via 'pip install kaggle'  \n",
    "\n",
    "[Kaggle api](https://github.com/Kaggle/kaggle-api) from GitHub.\n"
   ]
  },
  {
   "cell_type": "code",
   "execution_count": 355,
   "metadata": {
    "collapsed": true
   },
   "outputs": [],
   "source": [
    "from kaggle import api\n",
    "from datetime import datetime"
   ]
  },
  {
   "cell_type": "code",
   "execution_count": 356,
   "metadata": {
    "collapsed": true
   },
   "outputs": [],
   "source": [
    "api.authenticate()"
   ]
  },
  {
   "cell_type": "code",
   "execution_count": 108,
   "metadata": {},
   "outputs": [],
   "source": [
    "rows = []\n",
    "page=1\n",
    "c = api.competitions_list(page=1,search='')\n",
    "while len(c) > 0:\n",
    "    rows.extend(c)\n",
    "    page += 1\n",
    "    c = api.competitions_list(page=page,search='')"
   ]
  },
  {
   "cell_type": "code",
   "execution_count": 357,
   "metadata": {},
   "outputs": [
    {
     "name": "stdout",
     "output_type": "stream",
     "text": [
      "dict_keys(['ref', 'tags', 'description', 'id', 'title', 'url', 'deadline', 'category', 'reward', 'organizationName', 'organizationRef', 'kernelCount', 'teamCount', 'userHasEntered', 'userRank', 'mergerDeadline', 'newEntrantDeadline', 'enabledDate', 'maxDailySubmissions', 'maxTeamSize', 'evaluationMetric', 'awardsPoints', 'isKernelsSubmissionsOnly', 'submissionsDisabled'])\n"
     ]
    }
   ],
   "source": [
    "print(rows[0].keys())"
   ]
  },
  {
   "cell_type": "code",
   "execution_count": 358,
   "metadata": {
    "collapsed": true
   },
   "outputs": [],
   "source": [
    "cols = ['ref',\n",
    "        'enabledDate',\n",
    "        'deadline',\n",
    "        'organizationName',\n",
    "        'organizationRef',\n",
    "        'reward',\n",
    "        'title',\n",
    "        'description',\n",
    "        'teamCount',\n",
    "        'url']"
   ]
  },
  {
   "cell_type": "code",
   "execution_count": 369,
   "metadata": {},
   "outputs": [],
   "source": [
    "df = pd.DataFrame.from_dict(rows)[cols]"
   ]
  },
  {
   "cell_type": "markdown",
   "metadata": {},
   "source": [
    "## Cleanup - column types and values"
   ]
  },
  {
   "cell_type": "code",
   "execution_count": 387,
   "metadata": {
    "collapsed": true
   },
   "outputs": [],
   "source": [
    "from re import sub\n",
    "import locale\n",
    "\n",
    "def reward_value(s):\n",
    "    locale.setlocale(locale.LC_ALL,'')\n",
    "    sv = sub('\\$','',s)\n",
    "    sv = sub('€','',sv)\n",
    "    try:\n",
    "        return locale.atof(sv)\n",
    "    except ValueError:\n",
    "        return 0.0"
   ]
  },
  {
   "cell_type": "code",
   "execution_count": 388,
   "metadata": {},
   "outputs": [],
   "source": [
    "dfc = pd.concat([\n",
    "    pd.to_datetime(df.enabledDate),\n",
    "    df.ref,\n",
    "    pd.to_datetime(df.deadline),\n",
    "    df.organizationName,\n",
    "    df.organizationRef.fillna('NA'),\n",
    "    df.reward.apply(reward_value),\n",
    "    df.title,\n",
    "    df.description,\n",
    "    pd.to_numeric(df.teamCount),\n",
    "    df.url\n",
    "],axis=1)"
   ]
  },
  {
   "cell_type": "code",
   "execution_count": 389,
   "metadata": {},
   "outputs": [],
   "source": [
    "# Optional:\n",
    "# this attemps to fill null organization name with first two words of title - as it seems\n",
    "# to have a company name many times.\n",
    "\n",
    "dfc['organizationName'].fillna(dfc['title'].apply(lambda x: ' '.join(x.split()[:2])),inplace=True)"
   ]
  },
  {
   "cell_type": "code",
   "execution_count": 390,
   "metadata": {},
   "outputs": [],
   "source": [
    "dfc.set_index(pd.DatetimeIndex(dfc['enabledDate']),inplace=True,drop=True)\n",
    "dfc.drop(dfc.columns[0],inplace=True,axis=1)"
   ]
  },
  {
   "cell_type": "code",
   "execution_count": 391,
   "metadata": {},
   "outputs": [
    {
     "name": "stdout",
     "output_type": "stream",
     "text": [
      "<class 'pandas.core.frame.DataFrame'>\n",
      "DatetimeIndex: 277 entries, 2017-07-26 15:08:10.333000 to 2010-04-07 07:57:43\n",
      "Data columns (total 9 columns):\n",
      "ref                 277 non-null object\n",
      "deadline            277 non-null datetime64[ns]\n",
      "organizationName    277 non-null object\n",
      "organizationRef     277 non-null object\n",
      "reward              277 non-null float64\n",
      "title               277 non-null object\n",
      "description         277 non-null object\n",
      "teamCount           277 non-null int64\n",
      "url                 277 non-null object\n",
      "dtypes: datetime64[ns](1), float64(1), int64(1), object(6)\n",
      "memory usage: 21.6+ KB\n"
     ]
    }
   ],
   "source": [
    "dfc.info()"
   ]
  },
  {
   "cell_type": "code",
   "execution_count": 392,
   "metadata": {
    "collapsed": true
   },
   "outputs": [],
   "source": [
    "dfc.to_csv('kaggle_contests.csv')"
   ]
  },
  {
   "cell_type": "markdown",
   "metadata": {},
   "source": [
    "## Query current contests that have a monetary value"
   ]
  },
  {
   "cell_type": "code",
   "execution_count": 393,
   "metadata": {},
   "outputs": [
    {
     "data": {
      "text/html": [
       "<div>\n",
       "<style scoped>\n",
       "    .dataframe tbody tr th:only-of-type {\n",
       "        vertical-align: middle;\n",
       "    }\n",
       "\n",
       "    .dataframe tbody tr th {\n",
       "        vertical-align: top;\n",
       "    }\n",
       "\n",
       "    .dataframe thead th {\n",
       "        text-align: right;\n",
       "    }\n",
       "</style>\n",
       "<table border=\"1\" class=\"dataframe\">\n",
       "  <thead>\n",
       "    <tr style=\"text-align: right;\">\n",
       "      <th></th>\n",
       "      <th>ref</th>\n",
       "      <th>deadline</th>\n",
       "      <th>organizationName</th>\n",
       "      <th>organizationRef</th>\n",
       "      <th>reward</th>\n",
       "      <th>title</th>\n",
       "      <th>description</th>\n",
       "      <th>teamCount</th>\n",
       "      <th>url</th>\n",
       "    </tr>\n",
       "    <tr>\n",
       "      <th>enabledDate</th>\n",
       "      <th></th>\n",
       "      <th></th>\n",
       "      <th></th>\n",
       "      <th></th>\n",
       "      <th></th>\n",
       "      <th></th>\n",
       "      <th></th>\n",
       "      <th></th>\n",
       "      <th></th>\n",
       "    </tr>\n",
       "  </thead>\n",
       "  <tbody>\n",
       "    <tr>\n",
       "      <th>2018-03-07 18:20:47.570</th>\n",
       "      <td>imaterialist-challenge-furniture-2018</td>\n",
       "      <td>2018-05-30 23:59:00</td>\n",
       "      <td>iMaterialist Challenge</td>\n",
       "      <td>NA</td>\n",
       "      <td>2500.0</td>\n",
       "      <td>iMaterialist Challenge (Furniture) at FGVC5</td>\n",
       "      <td>Image Classification of Furniture &amp; Home Goods.</td>\n",
       "      <td>45</td>\n",
       "      <td>https://www.kaggle.com/c/imaterialist-challeng...</td>\n",
       "    </tr>\n",
       "    <tr>\n",
       "      <th>2018-02-02 23:01:00.063</th>\n",
       "      <td>landmark-retrieval-challenge</td>\n",
       "      <td>2018-05-22 23:59:00</td>\n",
       "      <td>Google</td>\n",
       "      <td>google</td>\n",
       "      <td>2500.0</td>\n",
       "      <td>Google Landmark Retrieval Challenge</td>\n",
       "      <td>Given an image, can you find all of the same l...</td>\n",
       "      <td>78</td>\n",
       "      <td>https://www.kaggle.com/c/landmark-retrieval-ch...</td>\n",
       "    </tr>\n",
       "    <tr>\n",
       "      <th>2018-02-02 23:00:50.797</th>\n",
       "      <td>landmark-recognition-challenge</td>\n",
       "      <td>2018-05-22 23:59:00</td>\n",
       "      <td>Google</td>\n",
       "      <td>google</td>\n",
       "      <td>2500.0</td>\n",
       "      <td>Google Landmark Recognition Challenge</td>\n",
       "      <td>Label famous (and not-so-famous) landmarks in ...</td>\n",
       "      <td>143</td>\n",
       "      <td>https://www.kaggle.com/c/landmark-recognition-...</td>\n",
       "    </tr>\n",
       "    <tr>\n",
       "      <th>2018-03-05 20:05:11.213</th>\n",
       "      <td>talkingdata-adtracking-fraud-detection</td>\n",
       "      <td>2018-05-07 23:59:00</td>\n",
       "      <td>TalkingData</td>\n",
       "      <td>talkingdata</td>\n",
       "      <td>25000.0</td>\n",
       "      <td>TalkingData AdTracking Fraud Detection Challenge</td>\n",
       "      <td>Can you detect fraudulent click traffic for mo...</td>\n",
       "      <td>938</td>\n",
       "      <td>https://www.kaggle.com/c/talkingdata-adtrackin...</td>\n",
       "    </tr>\n",
       "    <tr>\n",
       "      <th>2018-01-16 14:00:00.790</th>\n",
       "      <td>data-science-bowl-2018</td>\n",
       "      <td>2018-04-16 23:59:00</td>\n",
       "      <td>Booz Allen Hamilton</td>\n",
       "      <td>BoozAllenHamilton</td>\n",
       "      <td>100000.0</td>\n",
       "      <td>2018 Data Science Bowl</td>\n",
       "      <td>Find the nuclei in divergent images to advance...</td>\n",
       "      <td>2558</td>\n",
       "      <td>https://www.kaggle.com/c/data-science-bowl-2018</td>\n",
       "    </tr>\n",
       "    <tr>\n",
       "      <th>2018-02-20 18:54:34.967</th>\n",
       "      <td>mens-machine-learning-competition-2018</td>\n",
       "      <td>2018-04-02 23:59:00</td>\n",
       "      <td>Google Cloud</td>\n",
       "      <td>google-cloud</td>\n",
       "      <td>50000.0</td>\n",
       "      <td>Google Cloud &amp; NCAA® ML Competition 2018-Men's</td>\n",
       "      <td>Apply Machine Learning to NCAA® March Madness®</td>\n",
       "      <td>934</td>\n",
       "      <td>https://www.kaggle.com/c/mens-machine-learning...</td>\n",
       "    </tr>\n",
       "    <tr>\n",
       "      <th>2018-02-20 18:54:35.837</th>\n",
       "      <td>womens-machine-learning-competition-2018</td>\n",
       "      <td>2018-04-01 23:59:00</td>\n",
       "      <td>Google Cloud</td>\n",
       "      <td>google-cloud</td>\n",
       "      <td>50000.0</td>\n",
       "      <td>Google Cloud &amp; NCAA® ML Competition 2018-Women's</td>\n",
       "      <td>Apply machine learning to NCAA® March Madness®</td>\n",
       "      <td>505</td>\n",
       "      <td>https://www.kaggle.com/c/womens-machine-learni...</td>\n",
       "    </tr>\n",
       "    <tr>\n",
       "      <th>2017-12-19 15:38:59.253</th>\n",
       "      <td>jigsaw-toxic-comment-classification-challenge</td>\n",
       "      <td>2018-03-20 23:59:00</td>\n",
       "      <td>Jigsaw</td>\n",
       "      <td>jigsaw-team</td>\n",
       "      <td>35000.0</td>\n",
       "      <td>Toxic Comment Classification Challenge</td>\n",
       "      <td>Identify and classify toxic online comments</td>\n",
       "      <td>4460</td>\n",
       "      <td>https://www.kaggle.com/c/jigsaw-toxic-comment-...</td>\n",
       "    </tr>\n",
       "  </tbody>\n",
       "</table>\n",
       "</div>"
      ],
      "text/plain": [
       "                                                                   ref  \\\n",
       "enabledDate                                                              \n",
       "2018-03-07 18:20:47.570          imaterialist-challenge-furniture-2018   \n",
       "2018-02-02 23:01:00.063                   landmark-retrieval-challenge   \n",
       "2018-02-02 23:00:50.797                 landmark-recognition-challenge   \n",
       "2018-03-05 20:05:11.213         talkingdata-adtracking-fraud-detection   \n",
       "2018-01-16 14:00:00.790                         data-science-bowl-2018   \n",
       "2018-02-20 18:54:34.967         mens-machine-learning-competition-2018   \n",
       "2018-02-20 18:54:35.837       womens-machine-learning-competition-2018   \n",
       "2017-12-19 15:38:59.253  jigsaw-toxic-comment-classification-challenge   \n",
       "\n",
       "                                   deadline        organizationName  \\\n",
       "enabledDate                                                           \n",
       "2018-03-07 18:20:47.570 2018-05-30 23:59:00  iMaterialist Challenge   \n",
       "2018-02-02 23:01:00.063 2018-05-22 23:59:00                  Google   \n",
       "2018-02-02 23:00:50.797 2018-05-22 23:59:00                  Google   \n",
       "2018-03-05 20:05:11.213 2018-05-07 23:59:00             TalkingData   \n",
       "2018-01-16 14:00:00.790 2018-04-16 23:59:00     Booz Allen Hamilton   \n",
       "2018-02-20 18:54:34.967 2018-04-02 23:59:00            Google Cloud   \n",
       "2018-02-20 18:54:35.837 2018-04-01 23:59:00            Google Cloud   \n",
       "2017-12-19 15:38:59.253 2018-03-20 23:59:00                  Jigsaw   \n",
       "\n",
       "                           organizationRef    reward  \\\n",
       "enabledDate                                            \n",
       "2018-03-07 18:20:47.570                 NA    2500.0   \n",
       "2018-02-02 23:01:00.063             google    2500.0   \n",
       "2018-02-02 23:00:50.797             google    2500.0   \n",
       "2018-03-05 20:05:11.213        talkingdata   25000.0   \n",
       "2018-01-16 14:00:00.790  BoozAllenHamilton  100000.0   \n",
       "2018-02-20 18:54:34.967       google-cloud   50000.0   \n",
       "2018-02-20 18:54:35.837       google-cloud   50000.0   \n",
       "2017-12-19 15:38:59.253        jigsaw-team   35000.0   \n",
       "\n",
       "                                                                    title  \\\n",
       "enabledDate                                                                 \n",
       "2018-03-07 18:20:47.570       iMaterialist Challenge (Furniture) at FGVC5   \n",
       "2018-02-02 23:01:00.063               Google Landmark Retrieval Challenge   \n",
       "2018-02-02 23:00:50.797             Google Landmark Recognition Challenge   \n",
       "2018-03-05 20:05:11.213  TalkingData AdTracking Fraud Detection Challenge   \n",
       "2018-01-16 14:00:00.790                           2018 Data Science Bowl    \n",
       "2018-02-20 18:54:34.967    Google Cloud & NCAA® ML Competition 2018-Men's   \n",
       "2018-02-20 18:54:35.837  Google Cloud & NCAA® ML Competition 2018-Women's   \n",
       "2017-12-19 15:38:59.253            Toxic Comment Classification Challenge   \n",
       "\n",
       "                                                               description  \\\n",
       "enabledDate                                                                  \n",
       "2018-03-07 18:20:47.570    Image Classification of Furniture & Home Goods.   \n",
       "2018-02-02 23:01:00.063  Given an image, can you find all of the same l...   \n",
       "2018-02-02 23:00:50.797  Label famous (and not-so-famous) landmarks in ...   \n",
       "2018-03-05 20:05:11.213  Can you detect fraudulent click traffic for mo...   \n",
       "2018-01-16 14:00:00.790  Find the nuclei in divergent images to advance...   \n",
       "2018-02-20 18:54:34.967     Apply Machine Learning to NCAA® March Madness®   \n",
       "2018-02-20 18:54:35.837     Apply machine learning to NCAA® March Madness®   \n",
       "2017-12-19 15:38:59.253        Identify and classify toxic online comments   \n",
       "\n",
       "                         teamCount  \\\n",
       "enabledDate                          \n",
       "2018-03-07 18:20:47.570         45   \n",
       "2018-02-02 23:01:00.063         78   \n",
       "2018-02-02 23:00:50.797        143   \n",
       "2018-03-05 20:05:11.213        938   \n",
       "2018-01-16 14:00:00.790       2558   \n",
       "2018-02-20 18:54:34.967        934   \n",
       "2018-02-20 18:54:35.837        505   \n",
       "2017-12-19 15:38:59.253       4460   \n",
       "\n",
       "                                                                       url  \n",
       "enabledDate                                                                 \n",
       "2018-03-07 18:20:47.570  https://www.kaggle.com/c/imaterialist-challeng...  \n",
       "2018-02-02 23:01:00.063  https://www.kaggle.com/c/landmark-retrieval-ch...  \n",
       "2018-02-02 23:00:50.797  https://www.kaggle.com/c/landmark-recognition-...  \n",
       "2018-03-05 20:05:11.213  https://www.kaggle.com/c/talkingdata-adtrackin...  \n",
       "2018-01-16 14:00:00.790    https://www.kaggle.com/c/data-science-bowl-2018  \n",
       "2018-02-20 18:54:34.967  https://www.kaggle.com/c/mens-machine-learning...  \n",
       "2018-02-20 18:54:35.837  https://www.kaggle.com/c/womens-machine-learni...  \n",
       "2017-12-19 15:38:59.253  https://www.kaggle.com/c/jigsaw-toxic-comment-...  "
      ]
     },
     "execution_count": 393,
     "metadata": {},
     "output_type": "execute_result"
    }
   ],
   "source": [
    "current_reward_contests = dfc[(dfc.deadline > datetime.today()) & (dfc.reward > 0)]\n",
    "current_reward_contests"
   ]
  },
  {
   "cell_type": "markdown",
   "metadata": {},
   "source": [
    "### Most Popular Contest Ever"
   ]
  },
  {
   "cell_type": "code",
   "execution_count": 408,
   "metadata": {},
   "outputs": [
    {
     "data": {
      "text/plain": [
       "ref                                                           titanic\n",
       "deadline                                          2020-04-07 00:00:00\n",
       "organizationName                                               Kaggle\n",
       "organizationRef                                                kaggle\n",
       "reward                                                              0\n",
       "title                         Titanic: Machine Learning from Disaster\n",
       "description         Start here! Predict survival on the Titanic an...\n",
       "teamCount                                                       10257\n",
       "url                                  https://www.kaggle.com/c/titanic\n",
       "Name: 2012-09-28 21:13:33.550000, dtype: object"
      ]
     },
     "execution_count": 408,
     "metadata": {},
     "output_type": "execute_result"
    }
   ],
   "source": [
    "dfc.loc[dfc.teamCount.idxmax()]"
   ]
  },
  {
   "cell_type": "markdown",
   "metadata": {},
   "source": [
    "### Most Popular Active Contest"
   ]
  },
  {
   "cell_type": "code",
   "execution_count": 411,
   "metadata": {
    "collapsed": true
   },
   "outputs": [],
   "source": [
    "current_contests = dfc[(dfc.deadline > datetime.today()) & (dfc.reward > 0)]"
   ]
  },
  {
   "cell_type": "code",
   "execution_count": 415,
   "metadata": {},
   "outputs": [
    {
     "data": {
      "text/plain": [
       "ref                     jigsaw-toxic-comment-classification-challenge\n",
       "deadline                                          2018-03-20 23:59:00\n",
       "organizationName                                               Jigsaw\n",
       "organizationRef                                           jigsaw-team\n",
       "reward                                                          35000\n",
       "title                          Toxic Comment Classification Challenge\n",
       "description               Identify and classify toxic online comments\n",
       "teamCount                                                        4460\n",
       "url                 https://www.kaggle.com/c/jigsaw-toxic-comment-...\n",
       "Name: 2017-12-19 15:38:59.253000, dtype: object"
      ]
     },
     "execution_count": 415,
     "metadata": {},
     "output_type": "execute_result"
    }
   ],
   "source": [
    "current_contests.loc[current_contests.teamCount.idxmax()]"
   ]
  },
  {
   "cell_type": "markdown",
   "metadata": {},
   "source": [
    "## Datasets"
   ]
  },
  {
   "cell_type": "code",
   "execution_count": null,
   "metadata": {},
   "outputs": [],
   "source": [
    "rows = []\n",
    "page=1\n",
    "c = api.datasets_list(page=1,search='')\n",
    "while len(c) > 0:\n",
    "    rows.extend(c)\n",
    "    page += 1\n",
    "    c = api.datasets_list(page=page,search='')"
   ]
  },
  {
   "cell_type": "code",
   "execution_count": 417,
   "metadata": {},
   "outputs": [
    {
     "name": "stdout",
     "output_type": "stream",
     "text": [
      "dict_keys(['ref', 'tags', 'creatorName', 'creatorUrl', 'totalBytes', 'url', 'lastUpdated', 'downloadCount', 'isPrivate', 'isReviewed', 'isPublished', 'isFeatured', 'licenseName', 'description', 'ownerName', 'ownerRef', 'kernelCount', 'title', 'topicCount', 'viewCount', 'voteCount', 'currentVersionNumber'])\n"
     ]
    }
   ],
   "source": [
    "print(rows[0].keys())"
   ]
  },
  {
   "cell_type": "code",
   "execution_count": 420,
   "metadata": {
    "collapsed": true
   },
   "outputs": [],
   "source": [
    "cols = ['ref',\n",
    "        'title',\n",
    "        'description',\n",
    "        'creatorName',\n",
    "        'ownerName',\n",
    "        'isFeatured',\n",
    "        'isPublished',\n",
    "        'voteCount',\n",
    "        'downloadCount',\n",
    "        'viewCount',\n",
    "        'lastUpdated',\n",
    "        'licenseName',\n",
    "        'url']"
   ]
  },
  {
   "cell_type": "code",
   "execution_count": 421,
   "metadata": {
    "collapsed": true
   },
   "outputs": [],
   "source": [
    "df = pd.DataFrame.from_dict(rows)[cols]"
   ]
  },
  {
   "cell_type": "code",
   "execution_count": 423,
   "metadata": {},
   "outputs": [],
   "source": [
    "dfd = pd.concat([\n",
    "    df.ref,\n",
    "    df.title,\n",
    "    df.description,\n",
    "    df.creatorName,\n",
    "    df.ownerName,\n",
    "    df.isFeatured,\n",
    "    df.isPublished,\n",
    "    pd.to_numeric(df.voteCount),\n",
    "    pd.to_numeric(df.downloadCount),\n",
    "    pd.to_numeric(df.viewCount),\n",
    "    pd.to_datetime(df.lastUpdated),\n",
    "    df.licenseName,\n",
    "    df.url\n",
    "],axis=1)"
   ]
  },
  {
   "cell_type": "code",
   "execution_count": 424,
   "metadata": {},
   "outputs": [
    {
     "name": "stdout",
     "output_type": "stream",
     "text": [
      "<class 'pandas.core.frame.DataFrame'>\n",
      "RangeIndex: 2660 entries, 0 to 2659\n",
      "Data columns (total 13 columns):\n",
      "ref              2660 non-null object\n",
      "title            2660 non-null object\n",
      "description      2660 non-null object\n",
      "creatorName      2660 non-null object\n",
      "ownerName        2660 non-null object\n",
      "isFeatured       2660 non-null bool\n",
      "isPublished      2660 non-null bool\n",
      "voteCount        2660 non-null int64\n",
      "downloadCount    2660 non-null int64\n",
      "viewCount        2660 non-null int64\n",
      "lastUpdated      2660 non-null datetime64[ns]\n",
      "licenseName      2660 non-null object\n",
      "url              2660 non-null object\n",
      "dtypes: bool(2), datetime64[ns](1), int64(3), object(7)\n",
      "memory usage: 233.9+ KB\n"
     ]
    }
   ],
   "source": [
    "dfd.info()"
   ]
  },
  {
   "cell_type": "markdown",
   "metadata": {},
   "source": [
    "### Most popular ever dataset"
   ]
  },
  {
   "cell_type": "code",
   "execution_count": 426,
   "metadata": {},
   "outputs": [
    {
     "data": {
      "text/plain": [
       "ref                                        mlg-ulb/creditcardfraud\n",
       "title                                  Credit Card Fraud Detection\n",
       "description      Anonymized credit card transactions labeled as...\n",
       "creatorName                                                 Andrea\n",
       "ownerName                             Machine Learning Group - ULB\n",
       "isFeatured                                                   False\n",
       "isPublished                                                   True\n",
       "voteCount                                                     1296\n",
       "downloadCount                                                55011\n",
       "viewCount                                                   453392\n",
       "lastUpdated                             2016-11-05 09:08:46.503000\n",
       "licenseName      Database: Open Database, Contents: Database Co...\n",
       "url                 https://www.kaggle.com/mlg-ulb/creditcardfraud\n",
       "Name: 460, dtype: object"
      ]
     },
     "execution_count": 426,
     "metadata": {},
     "output_type": "execute_result"
    }
   ],
   "source": [
    "dfd.loc[dfd.voteCount.idxmax()]"
   ]
  },
  {
   "cell_type": "markdown",
   "metadata": {},
   "source": [
    "### Most Prolific Upload Owners"
   ]
  },
  {
   "cell_type": "code",
   "execution_count": 459,
   "metadata": {},
   "outputs": [],
   "source": [
    "sown = dfd.ownerName.value_counts().reset_index()"
   ]
  },
  {
   "cell_type": "code",
   "execution_count": 461,
   "metadata": {},
   "outputs": [],
   "source": [
    "sown.columns = ['ownerName','ownerUploads']"
   ]
  },
  {
   "cell_type": "code",
   "execution_count": 469,
   "metadata": {},
   "outputs": [],
   "source": [
    "dfd = dfd.merge(sown,on='ownerName')"
   ]
  },
  {
   "cell_type": "code",
   "execution_count": 472,
   "metadata": {},
   "outputs": [
    {
     "data": {
      "text/plain": [
       "CC0: Public Domain                                       1181\n",
       "Unknown                                                   487\n",
       "Other (specified in description)                          295\n",
       "Data files © Original Authors                             166\n",
       "CC BY-NC-SA 4.0                                           162\n",
       "Database: Open Database, Contents: Database Contents      126\n",
       "CC BY-SA 4.0                                              122\n",
       "GPL 2                                                      50\n",
       "Database: Open Database, Contents: © Original Authors      30\n",
       "CC BY-SA 3.0                                               29\n",
       "World Bank Dataset Terms of Use                             9\n",
       "Reddit API Terms                                            3\n",
       "Name: licenseName, dtype: int64"
      ]
     },
     "execution_count": 472,
     "metadata": {},
     "output_type": "execute_result"
    }
   ],
   "source": [
    "dfd.licenseName.value_counts()"
   ]
  },
  {
   "cell_type": "code",
   "execution_count": 482,
   "metadata": {},
   "outputs": [],
   "source": [
    "prolific_uploaders =dfd[dfd.ownerUploads > dfd.ownerUploads.mean() + dfd.ownerUploads.std()]"
   ]
  },
  {
   "cell_type": "code",
   "execution_count": 484,
   "metadata": {},
   "outputs": [
    {
     "data": {
      "text/plain": [
       "Rachael Tatman          78\n",
       "UCI Machine Learning    33\n",
       "Jacob Boysen            29\n",
       "Sohier Dane             24\n",
       "PyTorch                 21\n",
       "Abdullah Karimi         21\n",
       "PromptCloud             21\n",
       "Chris Crawford          21\n",
       "Name: ownerName, dtype: int64"
      ]
     },
     "execution_count": 484,
     "metadata": {},
     "output_type": "execute_result"
    }
   ],
   "source": [
    "prolific_uploaders.ownerName.value_counts()"
   ]
  },
  {
   "cell_type": "code",
   "execution_count": null,
   "metadata": {
    "collapsed": true
   },
   "outputs": [],
   "source": []
  }
 ],
 "metadata": {
  "kernelspec": {
   "display_name": "Python 3",
   "language": "python",
   "name": "python3"
  },
  "language_info": {
   "codemirror_mode": {
    "name": "ipython",
    "version": 3
   },
   "file_extension": ".py",
   "mimetype": "text/x-python",
   "name": "python",
   "nbconvert_exporter": "python",
   "pygments_lexer": "ipython3",
   "version": "3.6.2"
  }
 },
 "nbformat": 4,
 "nbformat_minor": 2
}
