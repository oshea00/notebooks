{
 "cells": [
  {
   "cell_type": "code",
   "execution_count": 189,
   "metadata": {},
   "outputs": [],
   "source": [
    "import numpy as np\n",
    "from math import pow\n",
    "from datetime import datetime, timedelta\n",
    "import pytz"
   ]
  },
  {
   "cell_type": "code",
   "execution_count": 275,
   "metadata": {},
   "outputs": [],
   "source": [
    "def julianDate(year,month,day,hour,minute,second,tzname,modified=False):\n",
    "    '''\n",
    "    returns julian date at Greenwich for given gregorian date\n",
    "    for years 1801-2099 AD.\n",
    "    '''\n",
    "    tz = pytz.timezone(tzname)\n",
    "    d = tz.localize(datetime(year,month,day,hour,minute,second))\n",
    "    u = d.astimezone(pytz.utc)\n",
    "    uthour = u.hour + (u.minute/60) + (u.second/3600)\n",
    "    t1 = 367*u.year\n",
    "    t2a = np.trunc((u.month+9)/12)\n",
    "    t2 = np.trunc((7*(u.year+t2a))/4)\n",
    "    t3 = np.trunc((275*u.month)/9)\n",
    "    t4 = 0.5*np.sign(100*u.year+u.month-190002.5)\n",
    "    jd = t1 - t2 + t3 + u.day + 1721013.5 + uthour/24 - t4 + 0.5\n",
    "    return jd if modified == False else jd - 2400000.5\n",
    "    "
   ]
  },
  {
   "cell_type": "code",
   "execution_count": 287,
   "metadata": {
    "collapsed": true
   },
   "outputs": [],
   "source": [
    "def tohms(h):\n",
    "    hours = np.trunc(h) % 24\n",
    "    fhour = round(h - hours,4)\n",
    "    fmin = fhour * 60\n",
    "    minutes = np.trunc(fmin)\n",
    "    fsecs = round(fmin - minutes,4)\n",
    "    seconds = round(fsecs*60,0)\n",
    "    return hours, minutes, seconds"
   ]
  },
  {
   "cell_type": "code",
   "execution_count": 288,
   "metadata": {},
   "outputs": [],
   "source": [
    "def tohours(hours,minutes,seconds):\n",
    "    return hours + (minutes/60) + (seconds/3600)"
   ]
  },
  {
   "cell_type": "code",
   "execution_count": 313,
   "metadata": {
    "collapsed": true
   },
   "outputs": [],
   "source": [
    "def gmst(year,month,day,hour,minute,second,tzname):\n",
    "    jd = julianDate(year,month,day,hour,minute,second,tzname)\n",
    "    gmst = 18.6973744558 + 24.06570982441908 * (jd-2451545.0)\n",
    "    gmst_hour = np.trunc(gmst)\n",
    "    gmst_min = gmst - gmst_hour\n",
    "    return (gmst_hour % 24) + gmst_min"
   ]
  },
  {
   "cell_type": "code",
   "execution_count": 306,
   "metadata": {
    "collapsed": true
   },
   "outputs": [],
   "source": [
    "def lmst(year,month,day,hour,minute,second,tzname,longitude):\n",
    "    return gmst(year,month,day,hour,minute,second,tzname) + (longitude/15)"
   ]
  },
  {
   "cell_type": "code",
   "execution_count": 315,
   "metadata": {
    "collapsed": true
   },
   "outputs": [],
   "source": [
    "def currlmst(tzname,longitude):\n",
    "    tz = pytz.timezone(tzname)\n",
    "    d = datetime.now()\n",
    "    return lmst(d.year,d.month,d.day,d.hour,d.minute,d.second,tzname,longitude)\n"
   ]
  },
  {
   "cell_type": "code",
   "execution_count": 320,
   "metadata": {},
   "outputs": [
    {
     "data": {
      "text/plain": [
       "(13.0, 14.0, 12.0)"
      ]
     },
     "execution_count": 320,
     "metadata": {},
     "output_type": "execute_result"
    }
   ],
   "source": [
    "tohms(currlmst('US/Pacific',-tohours(122,2,32.23)))"
   ]
  },
  {
   "cell_type": "code",
   "execution_count": null,
   "metadata": {
    "collapsed": true
   },
   "outputs": [],
   "source": []
  }
 ],
 "metadata": {
  "kernelspec": {
   "display_name": "Python 3",
   "language": "python",
   "name": "python3"
  },
  "language_info": {
   "codemirror_mode": {
    "name": "ipython",
    "version": 3
   },
   "file_extension": ".py",
   "mimetype": "text/x-python",
   "name": "python",
   "nbconvert_exporter": "python",
   "pygments_lexer": "ipython3",
   "version": "3.6.2"
  }
 },
 "nbformat": 4,
 "nbformat_minor": 2
}
