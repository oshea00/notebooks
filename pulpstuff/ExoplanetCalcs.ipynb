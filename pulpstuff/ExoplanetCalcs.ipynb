{
 "cells": [
  {
   "cell_type": "code",
   "execution_count": 2,
   "metadata": {
    "collapsed": true
   },
   "outputs": [],
   "source": [
    "from math import sqrt, pow, pi\n",
    "import matplotlib.pyplot as plt\n",
    "from matplotlib.patches import Circle, ConnectionPatch\n",
    "import numpy as np\n",
    "%matplotlib inline"
   ]
  },
  {
   "cell_type": "markdown",
   "metadata": {},
   "source": [
    "## Overview\n",
    "Calculate orbital characteristics from observed exoplanet data (see inputs below). This example uses Kepler-20b information.\n",
    "Useful for visualizing orbits and determining whether they fall into the habital zone.\n",
    "\n",
    "## References\n",
    "* Cumming, A., Marcy, G. W., & Butler, R. P. 1999, ApJ, 526, 890\n",
    "* Kasting, J. F., Whitmire, D. P., & Reynolds, R. T. 1993, Icarus, 101, 108\n",
    "* Perryman, M. 2011, The Exoplanet Handbook, Cambridge University Press, New York; ISBN: 0521765595\n",
    "* Exoplanet Archive, https://exoplanetarchive.ipac.caltech.edu\n",
    "* Exoplanets.org data, http://exoplanets.org/table "
   ]
  },
  {
   "cell_type": "code",
   "execution_count": 9,
   "metadata": {},
   "outputs": [],
   "source": [
    "# Kepler-20b values\n",
    "# M☉ = (1.98855±0.00025)×10^30 kg mass of Sol\n",
    "#constants\n",
    "solrad = 0.00465047 # Sol radius in au\n",
    "juprad = 0.000477895 # Jupiter radius in au\n",
    "\n",
    "# observation inputs\n",
    "d = 290 # distance in parsecs to stellar body - ps = 648000 au / 𝛑\n",
    "msun = 0.912 # mass of stellar body in sol unit\n",
    "srad = 0.944 # stellar radius in sol unit\n",
    "teff = 5466  # effective stellar temp in k (black body)\n",
    "a = .04537  # semi major axis of orbit in au\n",
    "msini = 0.0266 # mass of planet in jupiter units\n",
    "prad = 0.170 # planetary radius in jupiter units\n",
    "e = 0 # orbital eccentricity\n",
    "\n",
    "# given observation values - useful for checking derived calcs below\n",
    "period = 3.6961219 # orbital period in earth days (365.25 per year)\n",
    "radv = 3.7 # radial velocity m/s semiamplitude\n",
    "\n",
    "# derived orbital and stellar values.\n",
    "orbital_period_years = sqrt(pow(a,3)*(1/msun))\n",
    "orbital_period_days = orbital_period_years * 365.25\n",
    "t1 = 203*pow(orbital_period_days,-1.0/3.0)\n",
    "t2 = msini / pow(msun+9.548e-4*msini,2.0/3.0)\n",
    "t3 = 1/sqrt(1-e*e)\n",
    "radial_velocity_semiamp_mpersec = t1*t2*t3\n",
    "b = a*sqrt(1-e*e) # semi minor axis in au\n",
    "rp = a*(1-e) # radius of periapsis in au\n",
    "ra = a*(1+e) # radius of apoasis in au\n",
    "c = e * a # sun center\n",
    "lum = pow(srad,2)*pow(teff/5777,4) # stellar luminosity in sol unit\n",
    "\n",
    "# habital zones in au\n",
    "rhabinner = .75 * sqrt(lum)\n",
    "rhabcenter = sqrt(lum)\n",
    "rhabouter = 1.77 * sqrt(lum)\n",
    "# Astrometric semi-amplitude in au \n",
    "astamp = 954.3 * (msini/msun) * (a/d)\n",
    "# transit depth as % of ratio projected planet area to sun area\n",
    "tdepth = 1.049 * pow(prad/srad,2) if (prad*juprad)<(srad*solrad) else 100.0\n"
   ]
  },
  {
   "cell_type": "code",
   "execution_count": 10,
   "metadata": {},
   "outputs": [
    {
     "name": "stdout",
     "output_type": "stream",
     "text": [
      "Transit Depth (%area): 0.034\n",
      "Astrometric Semi-Amp (au): 0.004355\n",
      "Radius Periastron (au): 0.045\n",
      "Radius Apoastron (au): 0.045\n",
      "Stellar Luminosity (sol): 0.71\n",
      "Habital Inner (au): 0.634\n",
      "Habital Center (au): 0.845\n",
      "Habital Outer (au): 1.5\n",
      "Orbital Period (years): 0.01012\n",
      "Orbital Period (days): 3.696\n",
      "Radial Velocity Semi-Amp (m/s): 3.714\n"
     ]
    }
   ],
   "source": [
    "print('Transit Depth (%area): {:0.2}'.format(tdepth))\n",
    "print('Astrometric Semi-Amp (au): {:0.4}'.format(astamp))\n",
    "print('Radius Periastron (au): {:0.2}'.format(rp))\n",
    "print('Radius Apoastron (au): {:0.2}'.format(ra))\n",
    "print('Stellar Luminosity (sol): {:0.2}'.format(lum))\n",
    "print('Habital Inner (au): {:0.3}'.format(rhabinner))\n",
    "print('Habital Center (au): {:0.3}'.format(rhabcenter))\n",
    "print('Habital Outer (au): {:0.3}'.format(rhabouter))\n",
    "print('Orbital Period (years): {:0.4}'.format(orbital_period_years))\n",
    "print('Orbital Period (days): {:0.4}'.format(orbital_period_days))\n",
    "print('Radial Velocity Semi-Amp (m/s): {:0.4}'.format(radial_velocity_semiamp_mpersec))"
   ]
  },
  {
   "cell_type": "code",
   "execution_count": 11,
   "metadata": {},
   "outputs": [
    {
     "data": {
      "image/png": "[encoded data removed]",
      "text/plain": [
       "<matplotlib.figure.Figure at 0x10c2f39e8>"
      ]
     },
     "metadata": {},
     "output_type": "display_data"
    }
   ],
   "source": [
    "# orbital plot\n",
    "t = np.arange(0,2*pi+(2*pi/90),2*pi/90)\n",
    "x = a*np.cos(t)\n",
    "y = b*np.sin(t)\n",
    "plt.figure(figsize=(8,8))\n",
    "plt.axes().set_aspect('equal')\n",
    "plt.xlabel(\"Major Axis (au)\")\n",
    "plt.ylabel(\"Minor Axis (au)\")\n",
    "plt.plot(x,y,lw=.5,color='b',alpha=0.33)\n",
    "sun = Circle((c,0),srad*solrad)\n",
    "sun.set_color('#eeee00')\n",
    "plt.axes().add_artist(sun)\n",
    "wobble = ConnectionPatch((-tdepth/100*astamp,0),(tdepth/100*astamp,0),\"data\")\n",
    "wobble.set_color('k')\n",
    "plt.axes().add_artist(wobble)\n",
    "planet = Circle((c+rp,0),prad*juprad)\n",
    "planet.set_color('r')\n",
    "plt.axes().add_artist(planet)\n",
    "plt.show();\n"
   ]
  },
  {
   "cell_type": "code",
   "execution_count": null,
   "metadata": {
    "collapsed": true
   },
   "outputs": [],
   "source": []
  },
  {
   "cell_type": "code",
   "execution_count": null,
   "metadata": {
    "collapsed": true
   },
   "outputs": [],
   "source": []
  }
 ],
 "metadata": {
  "kernelspec": {
   "display_name": "Python 3",
   "language": "python",
   "name": "python3"
  },
  "language_info": {
   "codemirror_mode": {
    "name": "ipython",
    "version": 3
   },
   "file_extension": ".py",
   "mimetype": "text/x-python",
   "name": "python",
   "nbconvert_exporter": "python",
   "pygments_lexer": "ipython3",
   "version": "3.6.2"
  }
 },
 "nbformat": 4,
 "nbformat_minor": 2
}
