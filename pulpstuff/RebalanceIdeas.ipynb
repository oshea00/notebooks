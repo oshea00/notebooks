{
 "cells": [
  {
   "cell_type": "code",
   "execution_count": 18,
   "metadata": {},
   "outputs": [],
   "source": [
    "import numpy as np\n",
    "from scipy.optimize import minimize, LinearConstraint"
   ]
  },
  {
   "cell_type": "code",
   "execution_count": 30,
   "metadata": {},
   "outputs": [],
   "source": [
    "minbal = 362894.90\n",
    "maxbal = 362894.90\n",
    "ax = np.array([0.2,0.05,0.04,0.04,0.17,0.05,0.12,0.15,0.08,0.1])\n",
    "px = np.array([140.38,104.98,110.96,135.5,44.62,48.98,79.11,54.51,109.58,45.07])\n",
    "cs = np.array([528,182,143,101,1364,367,534,986,260,816])"
   ]
  },
  {
   "cell_type": "code",
   "execution_count": 78,
   "metadata": {},
   "outputs": [],
   "source": [
    "def rebalance(minbal,maxbal,ax,px,tol):\n",
    "    mintrade = 1\n",
    "    maxtrade = np.inf\n",
    "    targetTol = tol\n",
    "    x0 = np.ones(len(ax))\n",
    "    bounds = [(mintrade,maxtrade)]*len(x0)\n",
    "    cons = [\n",
    "            dict(type='ineq',fun=lambda x: maxbal - px.dot(x)),\n",
    "            dict(type='ineq',fun=lambda x: px.dot(x) - minbal),\n",
    "            dict(type='ineq',fun=lambda x: tol - np.std(ax - px*x/px.dot(x)))]\n",
    "    def targetoffset(x):\n",
    "        w = px*x/px.dot(x)\n",
    "        return np.sum(np.abs(ax-w))\n",
    "    result = minimize(targetoffset, x0, constraints=cons, bounds=bounds, method='SLSQP')\n",
    "    return result.success, np.round(result.x), result.message\n"
   ]
  },
  {
   "cell_type": "code",
   "execution_count": 85,
   "metadata": {},
   "outputs": [],
   "source": [
    "ok, values, msg = rebalance(minbal,maxbal,ax,px,0.05)"
   ]
  },
  {
   "cell_type": "code",
   "execution_count": 86,
   "metadata": {
    "scrolled": true
   },
   "outputs": [
    {
     "name": "stdout",
     "output_type": "stream",
     "text": [
      "True\n",
      "Optimization terminated successfully.\n",
      "[491. 241. 142.   1. 963. 488. 820. 972. 343. 679.]\n"
     ]
    }
   ],
   "source": [
    "print(ok)\n",
    "print(msg)\n",
    "print(values)"
   ]
  },
  {
   "cell_type": "code",
   "execution_count": 87,
   "metadata": {},
   "outputs": [
    {
     "data": {
      "text/plain": [
       "array([  37.,  -59.,    1.,  100.,  401., -121., -286.,   14.,  -83.,\n",
       "        137.])"
      ]
     },
     "execution_count": 87,
     "metadata": {},
     "output_type": "execute_result"
    }
   ],
   "source": [
    "cs-values"
   ]
  },
  {
   "cell_type": "code",
   "execution_count": 88,
   "metadata": {},
   "outputs": [
    {
     "data": {
      "text/plain": [
       "array([ 1., -2., -0.,  4.,  5., -2., -6.,  0., -2.,  2.])"
      ]
     },
     "execution_count": 88,
     "metadata": {},
     "output_type": "execute_result"
    }
   ],
   "source": [
    "np.round(ax - px*values/px.dot(values),2)*100"
   ]
  },
  {
   "cell_type": "code",
   "execution_count": 89,
   "metadata": {},
   "outputs": [
    {
     "data": {
      "text/plain": [
       "0.030415667247252455"
      ]
     },
     "execution_count": 89,
     "metadata": {},
     "output_type": "execute_result"
    }
   ],
   "source": [
    "np.std(ax - px*values/px.dot(values))"
   ]
  },
  {
   "cell_type": "code",
   "execution_count": 90,
   "metadata": {},
   "outputs": [
    {
     "data": {
      "text/plain": [
       "0.0009251128140955857"
      ]
     },
     "execution_count": 90,
     "metadata": {},
     "output_type": "execute_result"
    }
   ],
   "source": [
    "np.var(ax - px*values/px.dot(values))"
   ]
  },
  {
   "cell_type": "code",
   "execution_count": null,
   "metadata": {},
   "outputs": [],
   "source": []
  }
 ],
 "metadata": {
  "kernelspec": {
   "display_name": "Python 3",
   "language": "python",
   "name": "python3"
  },
  "language_info": {
   "codemirror_mode": {
    "name": "ipython",
    "version": 3
   },
   "file_extension": ".py",
   "mimetype": "text/x-python",
   "name": "python",
   "nbconvert_exporter": "python",
   "pygments_lexer": "ipython3",
   "version": "3.6.2"
  }
 },
 "nbformat": 4,
 "nbformat_minor": 2
}
