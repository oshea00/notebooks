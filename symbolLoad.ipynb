{
 "cells": [
  {
   "cell_type": "code",
   "execution_count": 1,
   "metadata": {},
   "outputs": [
    {
     "data": {
      "text/plain": [
       "True"
      ]
     },
     "execution_count": 1,
     "metadata": {},
     "output_type": "execute_result"
    }
   ],
   "source": [
    "import pandas as pd\n",
    "import psycopg2 as pg\n",
    "import os\n",
    "import requests\n",
    "import json\n",
    "from io import StringIO\n",
    "\n",
    "def importSymbols(dburl,logger=None):\n",
    "    try:\n",
    "        symbolsLoaded = False\n",
    "        r = requests.get('https://api.iextrading.com/1.0/ref-data/symbols')\n",
    "        symboljson = r.json()\n",
    "        symboldf = pd.DataFrame(symboljson)\n",
    "        symbolcsv = symboldf[symboldf.isEnabled==True][['name','symbol']].to_csv(header=False,index=False)\n",
    "        conn = pg.connect(dburl)\n",
    "        cur = conn.cursor()\n",
    "        symbols = StringIO(symbolcsv)\n",
    "        cur.execute('truncate symbols')\n",
    "        cur.copy_from(symbols,'symbols',sep=',')\n",
    "        symbols.close()\n",
    "        conn.commit()\n",
    "        conn.close()\n",
    "        symbolsLoaded = True\n",
    "    except Exception as ex:\n",
    "        if logger:\n",
    "            logger.warn(ex)\n",
    "        else:\n",
    "            print(ex)\n",
    "    else:\n",
    "        return symbolsLoaded\n",
    "    \n",
    "importSymbols(os.getenv('DATABASE_URL'))\n",
    "\n"
   ]
  },
  {
   "cell_type": "code",
   "execution_count": 1,
   "metadata": {
    "collapsed": true
   },
   "outputs": [],
   "source": [
    "import pandas as pd\n",
    "import psycopg2 as pg\n",
    "import os\n",
    "import requests\n",
    "import json\n",
    "from io import StringIO"
   ]
  },
  {
   "cell_type": "code",
   "execution_count": 18,
   "metadata": {
    "collapsed": true
   },
   "outputs": [],
   "source": [
    "conn = pg.connect(\"user=moshea dbname=moshea\")\n",
    "cur = conn.cursor()\n",
    "cur.execute(\"select portfolio from user_portfolios where email = 'oshea00@gmail.com'\")\n",
    "rows = cur.fetchone()\n",
    "conn.close()"
   ]
  },
  {
   "cell_type": "code",
   "execution_count": 19,
   "metadata": {
    "collapsed": true
   },
   "outputs": [],
   "source": [
    "with StringIO(rows[0]) as csv:\n",
    "    df = pd.read_csv(csv)"
   ]
  },
  {
   "cell_type": "code",
   "execution_count": 20,
   "metadata": {},
   "outputs": [
    {
     "data": {
      "text/html": [
       "<div>\n",
       "<style scoped>\n",
       "    .dataframe tbody tr th:only-of-type {\n",
       "        vertical-align: middle;\n",
       "    }\n",
       "\n",
       "    .dataframe tbody tr th {\n",
       "        vertical-align: top;\n",
       "    }\n",
       "\n",
       "    .dataframe thead th {\n",
       "        text-align: right;\n",
       "    }\n",
       "</style>\n",
       "<table border=\"1\" class=\"dataframe\">\n",
       "  <thead>\n",
       "    <tr style=\"text-align: right;\">\n",
       "      <th></th>\n",
       "      <th>ceo</th>\n",
       "      <th>chart</th>\n",
       "      <th>companyName</th>\n",
       "      <th>description</th>\n",
       "      <th>exchange</th>\n",
       "      <th>industry</th>\n",
       "      <th>issueType</th>\n",
       "      <th>lastPrice</th>\n",
       "      <th>sector</th>\n",
       "      <th>ticker</th>\n",
       "      <th>website</th>\n",
       "      <th>weight</th>\n",
       "    </tr>\n",
       "  </thead>\n",
       "  <tbody>\n",
       "    <tr>\n",
       "      <th>0</th>\n",
       "      <td>Timothy D. Cook</td>\n",
       "      <td>[{'date': '2018-04-23', 'open': 166.194, 'high...</td>\n",
       "      <td>Apple Inc.</td>\n",
       "      <td>Apple Inc is designs, manufactures and markets...</td>\n",
       "      <td>Nasdaq Global Select</td>\n",
       "      <td>Computer Hardware</td>\n",
       "      <td>cs</td>\n",
       "      <td>186.31</td>\n",
       "      <td>Technology</td>\n",
       "      <td>AAPL</td>\n",
       "      <td>http://www.apple.com</td>\n",
       "      <td>0.0%</td>\n",
       "    </tr>\n",
       "    <tr>\n",
       "      <th>1</th>\n",
       "      <td>Virginia M. Rometty</td>\n",
       "      <td>[{'date': '2018-04-23', 'open': 143.4377, 'hig...</td>\n",
       "      <td>International Business Machines Corporation</td>\n",
       "      <td>International Business Machines Corp offers a ...</td>\n",
       "      <td>New York Stock Exchange</td>\n",
       "      <td>Application Software</td>\n",
       "      <td>cs</td>\n",
       "      <td>144.08</td>\n",
       "      <td>Technology</td>\n",
       "      <td>IBM</td>\n",
       "      <td>http://www.ibm.com</td>\n",
       "      <td>0.0%</td>\n",
       "    </tr>\n",
       "    <tr>\n",
       "      <th>2</th>\n",
       "      <td>NaN</td>\n",
       "      <td>[{'date': '2018-04-23', 'open': 43.88, 'high':...</td>\n",
       "      <td>General Mills Inc.</td>\n",
       "      <td>General Mills Inc is a global manufacturer and...</td>\n",
       "      <td>New York Stock Exchange</td>\n",
       "      <td>Consumer Packaged Goods</td>\n",
       "      <td>cs</td>\n",
       "      <td>41.82</td>\n",
       "      <td>Consumer Defensive</td>\n",
       "      <td>GIS</td>\n",
       "      <td>http://www.generalmills.com</td>\n",
       "      <td>0.0%</td>\n",
       "    </tr>\n",
       "  </tbody>\n",
       "</table>\n",
       "</div>"
      ],
      "text/plain": [
       "                   ceo                                              chart  \\\n",
       "0      Timothy D. Cook  [{'date': '2018-04-23', 'open': 166.194, 'high...   \n",
       "1  Virginia M. Rometty  [{'date': '2018-04-23', 'open': 143.4377, 'hig...   \n",
       "2                  NaN  [{'date': '2018-04-23', 'open': 43.88, 'high':...   \n",
       "\n",
       "                                   companyName  \\\n",
       "0                                   Apple Inc.   \n",
       "1  International Business Machines Corporation   \n",
       "2                           General Mills Inc.   \n",
       "\n",
       "                                         description                 exchange  \\\n",
       "0  Apple Inc is designs, manufactures and markets...     Nasdaq Global Select   \n",
       "1  International Business Machines Corp offers a ...  New York Stock Exchange   \n",
       "2  General Mills Inc is a global manufacturer and...  New York Stock Exchange   \n",
       "\n",
       "                  industry issueType  lastPrice              sector ticker  \\\n",
       "0        Computer Hardware        cs     186.31          Technology   AAPL   \n",
       "1     Application Software        cs     144.08          Technology    IBM   \n",
       "2  Consumer Packaged Goods        cs      41.82  Consumer Defensive    GIS   \n",
       "\n",
       "                       website weight  \n",
       "0         http://www.apple.com   0.0%  \n",
       "1           http://www.ibm.com   0.0%  \n",
       "2  http://www.generalmills.com   0.0%  "
      ]
     },
     "execution_count": 20,
     "metadata": {},
     "output_type": "execute_result"
    }
   ],
   "source": [
    "df.head()"
   ]
  },
  {
   "cell_type": "code",
   "execution_count": null,
   "metadata": {
    "collapsed": true
   },
   "outputs": [],
   "source": []
  }
 ],
 "metadata": {
  "kernelspec": {
   "display_name": "Python 3",
   "language": "python",
   "name": "python3"
  },
  "language_info": {
   "codemirror_mode": {
    "name": "ipython",
    "version": 3
   },
   "file_extension": ".py",
   "mimetype": "text/x-python",
   "name": "python",
   "nbconvert_exporter": "python",
   "pygments_lexer": "ipython3",
   "version": "3.6.2"
  }
 },
 "nbformat": 4,
 "nbformat_minor": 2
}
