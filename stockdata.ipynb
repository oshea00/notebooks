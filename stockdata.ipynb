{
 "cells": [
  {
   "cell_type": "code",
   "execution_count": 4,
   "metadata": {},
   "outputs": [],
   "source": [
    "import pandas as pd\n",
    "import pandas_datareader.data as web\n",
    "import datetime\n",
    "\n",
    "start = datetime.date.today() - datetime.timedelta(days=5)\n",
    "end = datetime.date.today()"
   ]
  },
  {
   "cell_type": "code",
   "execution_count": 6,
   "metadata": {},
   "outputs": [
    {
     "data": {
      "text/html": [
       "<div>\n",
       "<style>\n",
       "    .dataframe thead tr:only-child th {\n",
       "        text-align: right;\n",
       "    }\n",
       "\n",
       "    .dataframe thead th {\n",
       "        text-align: left;\n",
       "    }\n",
       "\n",
       "    .dataframe tbody tr th {\n",
       "        vertical-align: top;\n",
       "    }\n",
       "</style>\n",
       "<table border=\"1\" class=\"dataframe\">\n",
       "  <thead>\n",
       "    <tr style=\"text-align: right;\">\n",
       "      <th></th>\n",
       "      <th>Open</th>\n",
       "      <th>High</th>\n",
       "      <th>Low</th>\n",
       "      <th>Close</th>\n",
       "      <th>Adj Close</th>\n",
       "      <th>Volume</th>\n",
       "    </tr>\n",
       "    <tr>\n",
       "      <th>Date</th>\n",
       "      <th></th>\n",
       "      <th></th>\n",
       "      <th></th>\n",
       "      <th></th>\n",
       "      <th></th>\n",
       "      <th></th>\n",
       "    </tr>\n",
       "  </thead>\n",
       "  <tbody>\n",
       "    <tr>\n",
       "      <th>2017-10-02</th>\n",
       "      <td>342.519989</td>\n",
       "      <td>343.700012</td>\n",
       "      <td>335.510010</td>\n",
       "      <td>341.529999</td>\n",
       "      <td>341.529999</td>\n",
       "      <td>5286800</td>\n",
       "    </tr>\n",
       "    <tr>\n",
       "      <th>2017-10-03</th>\n",
       "      <td>335.899994</td>\n",
       "      <td>348.549988</td>\n",
       "      <td>331.279999</td>\n",
       "      <td>348.140015</td>\n",
       "      <td>348.140015</td>\n",
       "      <td>10153600</td>\n",
       "    </tr>\n",
       "    <tr>\n",
       "      <th>2017-10-04</th>\n",
       "      <td>351.250000</td>\n",
       "      <td>358.619995</td>\n",
       "      <td>349.600006</td>\n",
       "      <td>355.010010</td>\n",
       "      <td>355.010010</td>\n",
       "      <td>8163500</td>\n",
       "    </tr>\n",
       "    <tr>\n",
       "      <th>2017-10-06</th>\n",
       "      <td>353.100006</td>\n",
       "      <td>360.099213</td>\n",
       "      <td>352.260010</td>\n",
       "      <td>356.880005</td>\n",
       "      <td>356.880005</td>\n",
       "      <td>4109905</td>\n",
       "    </tr>\n",
       "  </tbody>\n",
       "</table>\n",
       "</div>"
      ],
      "text/plain": [
       "                  Open        High         Low       Close   Adj Close  \\\n",
       "Date                                                                     \n",
       "2017-10-02  342.519989  343.700012  335.510010  341.529999  341.529999   \n",
       "2017-10-03  335.899994  348.549988  331.279999  348.140015  348.140015   \n",
       "2017-10-04  351.250000  358.619995  349.600006  355.010010  355.010010   \n",
       "2017-10-06  353.100006  360.099213  352.260010  356.880005  356.880005   \n",
       "\n",
       "              Volume  \n",
       "Date                  \n",
       "2017-10-02   5286800  \n",
       "2017-10-03  10153600  \n",
       "2017-10-04   8163500  \n",
       "2017-10-06   4109905  "
      ]
     },
     "execution_count": 6,
     "metadata": {},
     "output_type": "execute_result"
    }
   ],
   "source": [
    "df = web.DataReader('TSLA','yahoo',start,end)\n",
    "df.head()"
   ]
  }
 ],
 "metadata": {
  "kernelspec": {
   "display_name": "Python 3",
   "language": "python",
   "name": "python3"
  },
  "language_info": {
   "codemirror_mode": {
    "name": "ipython",
    "version": 3
   },
   "file_extension": ".py",
   "mimetype": "text/x-python",
   "name": "python",
   "nbconvert_exporter": "python",
   "pygments_lexer": "ipython3",
   "version": "3.6.2"
  }
 },
 "nbformat": 4,
 "nbformat_minor": 2
}
