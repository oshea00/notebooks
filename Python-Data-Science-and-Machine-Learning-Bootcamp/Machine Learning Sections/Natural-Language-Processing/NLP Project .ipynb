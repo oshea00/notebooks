{
 "cells": [
  {
   "cell_type": "markdown",
   "metadata": {},
   "source": [
    "___\n",
    "\n",
    "<a href='http://www.pieriandata.com'> <img src='../Pierian_Data_Logo.png' /></a>\n",
    "___"
   ]
  },
  {
   "cell_type": "markdown",
   "metadata": {},
   "source": [
    "# Natural Language Processing Project\n",
    "\n",
    "Welcome to the NLP Project for this section of the course. In this NLP project you will be attempting to classify Yelp Reviews into 1 star or 5 star categories based off the text content in the reviews. This will be a simpler procedure than the lecture, since we will utilize the pipeline methods for more complex tasks.\n",
    "\n",
    "We will use the [Yelp Review Data Set from Kaggle](https://www.kaggle.com/c/yelp-recsys-2013).\n",
    "\n",
    "Each observation in this dataset is a review of a particular business by a particular user.\n",
    "\n",
    "The \"stars\" column is the number of stars (1 through 5) assigned by the reviewer to the business. (Higher stars is better.) In other words, it is the rating of the business by the person who wrote the review.\n",
    "\n",
    "The \"cool\" column is the number of \"cool\" votes this review received from other Yelp users. \n",
    "\n",
    "All reviews start with 0 \"cool\" votes, and there is no limit to how many \"cool\" votes a review can receive. In other words, it is a rating of the review itself, not a rating of the business.\n",
    "\n",
    "The \"useful\" and \"funny\" columns are similar to the \"cool\" column.\n",
    "\n",
    "Let's get started! Just follow the directions below!"
   ]
  },
  {
   "cell_type": "markdown",
   "metadata": {},
   "source": [
    "## Imports\n",
    " **Import the usual suspects. :) **"
   ]
  },
  {
   "cell_type": "code",
   "execution_count": 2,
   "metadata": {
    "collapsed": true
   },
   "outputs": [],
   "source": [
    "import nltk\n",
    "import numpy as np\n",
    "import pandas as pd\n",
    "import matplotlib.pyplot as plt\n",
    "%matplotlib inline"
   ]
  },
  {
   "cell_type": "markdown",
   "metadata": {},
   "source": [
    "## The Data\n",
    "\n",
    "**Read the yelp.csv file and set it as a dataframe called yelp.**"
   ]
  },
  {
   "cell_type": "code",
   "execution_count": 3,
   "metadata": {
    "collapsed": true
   },
   "outputs": [],
   "source": [
    "yelp = pd.read_csv('yelp.csv')"
   ]
  },
  {
   "cell_type": "markdown",
   "metadata": {},
   "source": [
    "** Check the head, info , and describe methods on yelp.**"
   ]
  },
  {
   "cell_type": "code",
   "execution_count": 4,
   "metadata": {},
   "outputs": [
    {
     "data": {
      "text/html": [
       "<div>\n",
       "<style scoped>\n",
       "    .dataframe tbody tr th:only-of-type {\n",
       "        vertical-align: middle;\n",
       "    }\n",
       "\n",
       "    .dataframe tbody tr th {\n",
       "        vertical-align: top;\n",
       "    }\n",
       "\n",
       "    .dataframe thead th {\n",
       "        text-align: right;\n",
       "    }\n",
       "</style>\n",
       "<table border=\"1\" class=\"dataframe\">\n",
       "  <thead>\n",
       "    <tr style=\"text-align: right;\">\n",
       "      <th></th>\n",
       "      <th>business_id</th>\n",
       "      <th>date</th>\n",
       "      <th>review_id</th>\n",
       "      <th>stars</th>\n",
       "      <th>text</th>\n",
       "      <th>type</th>\n",
       "      <th>user_id</th>\n",
       "      <th>cool</th>\n",
       "      <th>useful</th>\n",
       "      <th>funny</th>\n",
       "    </tr>\n",
       "  </thead>\n",
       "  <tbody>\n",
       "    <tr>\n",
       "      <th>0</th>\n",
       "      <td>9yKzy9PApeiPPOUJEtnvkg</td>\n",
       "      <td>2011-01-26</td>\n",
       "      <td>fWKvX83p0-ka4JS3dc6E5A</td>\n",
       "      <td>5</td>\n",
       "      <td>My wife took me here on my birthday for breakf...</td>\n",
       "      <td>review</td>\n",
       "      <td>rLtl8ZkDX5vH5nAx9C3q5Q</td>\n",
       "      <td>2</td>\n",
       "      <td>5</td>\n",
       "      <td>0</td>\n",
       "    </tr>\n",
       "    <tr>\n",
       "      <th>1</th>\n",
       "      <td>ZRJwVLyzEJq1VAihDhYiow</td>\n",
       "      <td>2011-07-27</td>\n",
       "      <td>IjZ33sJrzXqU-0X6U8NwyA</td>\n",
       "      <td>5</td>\n",
       "      <td>I have no idea why some people give bad review...</td>\n",
       "      <td>review</td>\n",
       "      <td>0a2KyEL0d3Yb1V6aivbIuQ</td>\n",
       "      <td>0</td>\n",
       "      <td>0</td>\n",
       "      <td>0</td>\n",
       "    </tr>\n",
       "    <tr>\n",
       "      <th>2</th>\n",
       "      <td>6oRAC4uyJCsJl1X0WZpVSA</td>\n",
       "      <td>2012-06-14</td>\n",
       "      <td>IESLBzqUCLdSzSqm0eCSxQ</td>\n",
       "      <td>4</td>\n",
       "      <td>love the gyro plate. Rice is so good and I als...</td>\n",
       "      <td>review</td>\n",
       "      <td>0hT2KtfLiobPvh6cDC8JQg</td>\n",
       "      <td>0</td>\n",
       "      <td>1</td>\n",
       "      <td>0</td>\n",
       "    </tr>\n",
       "    <tr>\n",
       "      <th>3</th>\n",
       "      <td>_1QQZuf4zZOyFCvXc0o6Vg</td>\n",
       "      <td>2010-05-27</td>\n",
       "      <td>G-WvGaISbqqaMHlNnByodA</td>\n",
       "      <td>5</td>\n",
       "      <td>Rosie, Dakota, and I LOVE Chaparral Dog Park!!...</td>\n",
       "      <td>review</td>\n",
       "      <td>uZetl9T0NcROGOyFfughhg</td>\n",
       "      <td>1</td>\n",
       "      <td>2</td>\n",
       "      <td>0</td>\n",
       "    </tr>\n",
       "    <tr>\n",
       "      <th>4</th>\n",
       "      <td>6ozycU1RpktNG2-1BroVtw</td>\n",
       "      <td>2012-01-05</td>\n",
       "      <td>1uJFq2r5QfJG_6ExMRCaGw</td>\n",
       "      <td>5</td>\n",
       "      <td>General Manager Scott Petello is a good egg!!!...</td>\n",
       "      <td>review</td>\n",
       "      <td>vYmM4KTsC8ZfQBg-j5MWkw</td>\n",
       "      <td>0</td>\n",
       "      <td>0</td>\n",
       "      <td>0</td>\n",
       "    </tr>\n",
       "  </tbody>\n",
       "</table>\n",
       "</div>"
      ],
      "text/plain": [
       "              business_id        date               review_id  stars  \\\n",
       "0  9yKzy9PApeiPPOUJEtnvkg  2011-01-26  fWKvX83p0-ka4JS3dc6E5A      5   \n",
       "1  ZRJwVLyzEJq1VAihDhYiow  2011-07-27  IjZ33sJrzXqU-0X6U8NwyA      5   \n",
       "2  6oRAC4uyJCsJl1X0WZpVSA  2012-06-14  IESLBzqUCLdSzSqm0eCSxQ      4   \n",
       "3  _1QQZuf4zZOyFCvXc0o6Vg  2010-05-27  G-WvGaISbqqaMHlNnByodA      5   \n",
       "4  6ozycU1RpktNG2-1BroVtw  2012-01-05  1uJFq2r5QfJG_6ExMRCaGw      5   \n",
       "\n",
       "                                                text    type  \\\n",
       "0  My wife took me here on my birthday for breakf...  review   \n",
       "1  I have no idea why some people give bad review...  review   \n",
       "2  love the gyro plate. Rice is so good and I als...  review   \n",
       "3  Rosie, Dakota, and I LOVE Chaparral Dog Park!!...  review   \n",
       "4  General Manager Scott Petello is a good egg!!!...  review   \n",
       "\n",
       "                  user_id  cool  useful  funny  \n",
       "0  rLtl8ZkDX5vH5nAx9C3q5Q     2       5      0  \n",
       "1  0a2KyEL0d3Yb1V6aivbIuQ     0       0      0  \n",
       "2  0hT2KtfLiobPvh6cDC8JQg     0       1      0  \n",
       "3  uZetl9T0NcROGOyFfughhg     1       2      0  \n",
       "4  vYmM4KTsC8ZfQBg-j5MWkw     0       0      0  "
      ]
     },
     "execution_count": 4,
     "metadata": {},
     "output_type": "execute_result"
    }
   ],
   "source": [
    "yelp.head()"
   ]
  },
  {
   "cell_type": "code",
   "execution_count": 5,
   "metadata": {},
   "outputs": [
    {
     "name": "stdout",
     "output_type": "stream",
     "text": [
      "<class 'pandas.core.frame.DataFrame'>\n",
      "RangeIndex: 10000 entries, 0 to 9999\n",
      "Data columns (total 10 columns):\n",
      "business_id    10000 non-null object\n",
      "date           10000 non-null object\n",
      "review_id      10000 non-null object\n",
      "stars          10000 non-null int64\n",
      "text           10000 non-null object\n",
      "type           10000 non-null object\n",
      "user_id        10000 non-null object\n",
      "cool           10000 non-null int64\n",
      "useful         10000 non-null int64\n",
      "funny          10000 non-null int64\n",
      "dtypes: int64(4), object(6)\n",
      "memory usage: 781.3+ KB\n"
     ]
    }
   ],
   "source": [
    "yelp.info()"
   ]
  },
  {
   "cell_type": "code",
   "execution_count": 6,
   "metadata": {},
   "outputs": [
    {
     "data": {
      "text/html": [
       "<div>\n",
       "<style scoped>\n",
       "    .dataframe tbody tr th:only-of-type {\n",
       "        vertical-align: middle;\n",
       "    }\n",
       "\n",
       "    .dataframe tbody tr th {\n",
       "        vertical-align: top;\n",
       "    }\n",
       "\n",
       "    .dataframe thead th {\n",
       "        text-align: right;\n",
       "    }\n",
       "</style>\n",
       "<table border=\"1\" class=\"dataframe\">\n",
       "  <thead>\n",
       "    <tr style=\"text-align: right;\">\n",
       "      <th></th>\n",
       "      <th>stars</th>\n",
       "      <th>cool</th>\n",
       "      <th>useful</th>\n",
       "      <th>funny</th>\n",
       "    </tr>\n",
       "  </thead>\n",
       "  <tbody>\n",
       "    <tr>\n",
       "      <th>count</th>\n",
       "      <td>10000.000000</td>\n",
       "      <td>10000.000000</td>\n",
       "      <td>10000.000000</td>\n",
       "      <td>10000.000000</td>\n",
       "    </tr>\n",
       "    <tr>\n",
       "      <th>mean</th>\n",
       "      <td>3.777500</td>\n",
       "      <td>0.876800</td>\n",
       "      <td>1.409300</td>\n",
       "      <td>0.701300</td>\n",
       "    </tr>\n",
       "    <tr>\n",
       "      <th>std</th>\n",
       "      <td>1.214636</td>\n",
       "      <td>2.067861</td>\n",
       "      <td>2.336647</td>\n",
       "      <td>1.907942</td>\n",
       "    </tr>\n",
       "    <tr>\n",
       "      <th>min</th>\n",
       "      <td>1.000000</td>\n",
       "      <td>0.000000</td>\n",
       "      <td>0.000000</td>\n",
       "      <td>0.000000</td>\n",
       "    </tr>\n",
       "    <tr>\n",
       "      <th>25%</th>\n",
       "      <td>3.000000</td>\n",
       "      <td>0.000000</td>\n",
       "      <td>0.000000</td>\n",
       "      <td>0.000000</td>\n",
       "    </tr>\n",
       "    <tr>\n",
       "      <th>50%</th>\n",
       "      <td>4.000000</td>\n",
       "      <td>0.000000</td>\n",
       "      <td>1.000000</td>\n",
       "      <td>0.000000</td>\n",
       "    </tr>\n",
       "    <tr>\n",
       "      <th>75%</th>\n",
       "      <td>5.000000</td>\n",
       "      <td>1.000000</td>\n",
       "      <td>2.000000</td>\n",
       "      <td>1.000000</td>\n",
       "    </tr>\n",
       "    <tr>\n",
       "      <th>max</th>\n",
       "      <td>5.000000</td>\n",
       "      <td>77.000000</td>\n",
       "      <td>76.000000</td>\n",
       "      <td>57.000000</td>\n",
       "    </tr>\n",
       "  </tbody>\n",
       "</table>\n",
       "</div>"
      ],
      "text/plain": [
       "              stars          cool        useful         funny\n",
       "count  10000.000000  10000.000000  10000.000000  10000.000000\n",
       "mean       3.777500      0.876800      1.409300      0.701300\n",
       "std        1.214636      2.067861      2.336647      1.907942\n",
       "min        1.000000      0.000000      0.000000      0.000000\n",
       "25%        3.000000      0.000000      0.000000      0.000000\n",
       "50%        4.000000      0.000000      1.000000      0.000000\n",
       "75%        5.000000      1.000000      2.000000      1.000000\n",
       "max        5.000000     77.000000     76.000000     57.000000"
      ]
     },
     "execution_count": 6,
     "metadata": {},
     "output_type": "execute_result"
    }
   ],
   "source": [
    "yelp.describe()"
   ]
  },
  {
   "cell_type": "markdown",
   "metadata": {},
   "source": [
    "**Create a new column called \"text length\" which is the number of words in the text column.**"
   ]
  },
  {
   "cell_type": "code",
   "execution_count": 16,
   "metadata": {},
   "outputs": [],
   "source": [
    "yelp['text length'] = yelp['text'].apply(lambda x: len(x.split()))"
   ]
  },
  {
   "cell_type": "markdown",
   "metadata": {},
   "source": [
    "# EDA\n",
    "\n",
    "Let's explore the data\n",
    "\n",
    "## Imports\n",
    "\n",
    "**Import the data visualization libraries if you haven't done so already.**"
   ]
  },
  {
   "cell_type": "code",
   "execution_count": 18,
   "metadata": {
    "collapsed": true
   },
   "outputs": [],
   "source": [
    "import seaborn as sns"
   ]
  },
  {
   "cell_type": "markdown",
   "metadata": {},
   "source": [
    "**Use FacetGrid from the seaborn library to create a grid of 5 histograms of text length based off of the star ratings. Reference the seaborn documentation for hints on this**"
   ]
  },
  {
   "cell_type": "code",
   "execution_count": 19,
   "metadata": {},
   "outputs": [
    {
     "name": "stdout",
     "output_type": "stream",
     "text": [
      "Help on class FacetGrid in module seaborn.axisgrid:\n",
      "\n",
      "class FacetGrid(Grid)\n",
      " |  Subplot grid for plotting conditional relationships.\n",
      " |  \n",
      " |  Method resolution order:\n",
      " |      FacetGrid\n",
      " |      Grid\n",
      " |      builtins.object\n",
      " |  \n",
      " |  Methods defined here:\n",
      " |  \n",
      " |  __init__(self, data, row=None, col=None, hue=None, col_wrap=None, sharex=True, sharey=True, size=3, aspect=1, palette=None, row_order=None, col_order=None, hue_order=None, hue_kws=None, dropna=True, legend_out=True, despine=True, margin_titles=False, xlim=None, ylim=None, subplot_kws=None, gridspec_kws=None)\n",
      " |      Initialize the matplotlib figure and FacetGrid object.\n",
      " |      \n",
      " |      The :class:`FacetGrid` is an object that links a Pandas DataFrame to\n",
      " |      a matplotlib figure with a particular structure.\n",
      " |      \n",
      " |      In particular, :class:`FacetGrid` is used to draw plots with multiple\n",
      " |      Axes where each Axes shows the same relationship conditioned on\n",
      " |      different levels of some variable. It's possible to condition on up to\n",
      " |      three variables by assigning variables to the rows and columns of the\n",
      " |      grid and using different colors for the plot elements.\n",
      " |      \n",
      " |      The general approach to plotting here is called \"small multiples\",\n",
      " |      where the same kind of plot is repeated multiple times, and the\n",
      " |      specific use of small multiples to display the same relationship\n",
      " |      conditioned on one ore more other variables is often called a \"trellis\n",
      " |      plot\".\n",
      " |      \n",
      " |      The basic workflow is to initialize the :class:`FacetGrid` object with\n",
      " |      the dataset and the variables that are used to structure the grid. Then\n",
      " |      one or more plotting functions can be applied to each subset by calling\n",
      " |      :meth:`FacetGrid.map` or :meth:`FacetGrid.map_dataframe`. Finally, the\n",
      " |      plot can be tweaked with other methods to do things like change the\n",
      " |      axis labels, use different ticks, or add a legend. See the detailed\n",
      " |      code examples below for more information.\n",
      " |      \n",
      " |      Parameters\n",
      " |      ----------\n",
      " |      data : DataFrame\n",
      " |          Tidy (\"long-form\") dataframe where each column is a variable and each\n",
      " |          row is an observation.    \n",
      " |      row, col, hue : strings\n",
      " |          Variables that define subsets of the data, which will be drawn on\n",
      " |          separate facets in the grid. See the ``*_order`` parameters to\n",
      " |          control the order of levels of this variable.\n",
      " |      col_wrap : int, optional\n",
      " |          \"Wrap\" the column variable at this width, so that the column facets\n",
      " |          span multiple rows. Incompatible with a ``row`` facet.    \n",
      " |      share{x,y} : bool, optional\n",
      " |          If true, the facets will share y axes across columns and/or x axes\n",
      " |          across rows.    \n",
      " |      size : scalar, optional\n",
      " |          Height (in inches) of each facet. See also: ``aspect``.    \n",
      " |      aspect : scalar, optional\n",
      " |          Aspect ratio of each facet, so that ``aspect * size`` gives the width\n",
      " |          of each facet in inches.    \n",
      " |      palette : palette name, list, or dict, optional\n",
      " |          Colors to use for the different levels of the ``hue`` variable. Should\n",
      " |          be something that can be interpreted by :func:`color_palette`, or a\n",
      " |          dictionary mapping hue levels to matplotlib colors.    \n",
      " |      {row,col,hue}_order : lists, optional\n",
      " |          Order for the levels of the faceting variables. By default, this\n",
      " |          will be the order that the levels appear in ``data`` or, if the\n",
      " |          variables are pandas categoricals, the category order.\n",
      " |      hue_kws : dictionary of param -> list of values mapping\n",
      " |          Other keyword arguments to insert into the plotting call to let\n",
      " |          other plot attributes vary across levels of the hue variable (e.g.\n",
      " |          the markers in a scatterplot).\n",
      " |      legend_out : bool, optional\n",
      " |          If ``True``, the figure size will be extended, and the legend will be\n",
      " |          drawn outside the plot on the center right.    \n",
      " |      despine : boolean, optional\n",
      " |          Remove the top and right spines from the plots.\n",
      " |      margin_titles : bool, optional\n",
      " |          If ``True``, the titles for the row variable are drawn to the right of\n",
      " |          the last column. This option is experimental and may not work in all\n",
      " |          cases.    \n",
      " |      {x, y}lim: tuples, optional\n",
      " |          Limits for each of the axes on each facet (only relevant when\n",
      " |          share{x, y} is True.\n",
      " |      subplot_kws : dict, optional\n",
      " |          Dictionary of keyword arguments passed to matplotlib subplot(s)\n",
      " |          methods.\n",
      " |      gridspec_kws : dict, optional\n",
      " |          Dictionary of keyword arguments passed to matplotlib's ``gridspec``\n",
      " |          module (via ``plt.subplots``). Requires matplotlib >= 1.4 and is\n",
      " |          ignored if ``col_wrap`` is not ``None``.\n",
      " |      \n",
      " |      See Also\n",
      " |      --------\n",
      " |      PairGrid : Subplot grid for plotting pairwise relationships.\n",
      " |      lmplot : Combine a regression plot and a :class:`FacetGrid`.\n",
      " |      factorplot : Combine a categorical plot and a :class:`FacetGrid`.\n",
      " |      \n",
      " |      Examples\n",
      " |      --------\n",
      " |      \n",
      " |      Initialize a 2x2 grid of facets using the tips dataset:\n",
      " |      \n",
      " |      .. plot::\n",
      " |          :context: close-figs\n",
      " |      \n",
      " |          >>> import seaborn as sns; sns.set(style=\"ticks\", color_codes=True)\n",
      " |          >>> tips = sns.load_dataset(\"tips\")\n",
      " |          >>> g = sns.FacetGrid(tips, col=\"time\", row=\"smoker\")\n",
      " |      \n",
      " |      Draw a univariate plot on each facet:\n",
      " |      \n",
      " |      .. plot::\n",
      " |          :context: close-figs\n",
      " |      \n",
      " |          >>> import matplotlib.pyplot as plt\n",
      " |          >>> g = sns.FacetGrid(tips, col=\"time\",  row=\"smoker\")\n",
      " |          >>> g = g.map(plt.hist, \"total_bill\")\n",
      " |      \n",
      " |      (Note that it's not necessary to re-catch the returned variable; it's\n",
      " |      the same object, but doing so in the examples makes dealing with the\n",
      " |      doctests somewhat less annoying).\n",
      " |      \n",
      " |      Pass additional keyword arguments to the mapped function:\n",
      " |      \n",
      " |      .. plot::\n",
      " |          :context: close-figs\n",
      " |      \n",
      " |          >>> import numpy as np\n",
      " |          >>> bins = np.arange(0, 65, 5)\n",
      " |          >>> g = sns.FacetGrid(tips, col=\"time\",  row=\"smoker\")\n",
      " |          >>> g = g.map(plt.hist, \"total_bill\", bins=bins, color=\"r\")\n",
      " |      \n",
      " |      Plot a bivariate function on each facet:\n",
      " |      \n",
      " |      .. plot::\n",
      " |          :context: close-figs\n",
      " |      \n",
      " |          >>> g = sns.FacetGrid(tips, col=\"time\",  row=\"smoker\")\n",
      " |          >>> g = g.map(plt.scatter, \"total_bill\", \"tip\", edgecolor=\"w\")\n",
      " |      \n",
      " |      Assign one of the variables to the color of the plot elements:\n",
      " |      \n",
      " |      .. plot::\n",
      " |          :context: close-figs\n",
      " |      \n",
      " |          >>> g = sns.FacetGrid(tips, col=\"time\",  hue=\"smoker\")\n",
      " |          >>> g = (g.map(plt.scatter, \"total_bill\", \"tip\", edgecolor=\"w\")\n",
      " |          ...       .add_legend())\n",
      " |      \n",
      " |      Change the size and aspect ratio of each facet:\n",
      " |      \n",
      " |      .. plot::\n",
      " |          :context: close-figs\n",
      " |      \n",
      " |          >>> g = sns.FacetGrid(tips, col=\"day\", size=4, aspect=.5)\n",
      " |          >>> g = g.map(plt.hist, \"total_bill\", bins=bins)\n",
      " |      \n",
      " |      Specify the order for plot elements:\n",
      " |      \n",
      " |      .. plot::\n",
      " |          :context: close-figs\n",
      " |      \n",
      " |          >>> g = sns.FacetGrid(tips, col=\"smoker\", col_order=[\"Yes\", \"No\"])\n",
      " |          >>> g = g.map(plt.hist, \"total_bill\", bins=bins, color=\"m\")\n",
      " |      \n",
      " |      Use a different color palette:\n",
      " |      \n",
      " |      .. plot::\n",
      " |          :context: close-figs\n",
      " |      \n",
      " |          >>> kws = dict(s=50, linewidth=.5, edgecolor=\"w\")\n",
      " |          >>> g = sns.FacetGrid(tips, col=\"sex\", hue=\"time\", palette=\"Set1\",\n",
      " |          ...                   hue_order=[\"Dinner\", \"Lunch\"])\n",
      " |          >>> g = (g.map(plt.scatter, \"total_bill\", \"tip\", **kws)\n",
      " |          ...      .add_legend())\n",
      " |      \n",
      " |      Use a dictionary mapping hue levels to colors:\n",
      " |      \n",
      " |      .. plot::\n",
      " |          :context: close-figs\n",
      " |      \n",
      " |          >>> pal = dict(Lunch=\"seagreen\", Dinner=\"gray\")\n",
      " |          >>> g = sns.FacetGrid(tips, col=\"sex\", hue=\"time\", palette=pal,\n",
      " |          ...                   hue_order=[\"Dinner\", \"Lunch\"])\n",
      " |          >>> g = (g.map(plt.scatter, \"total_bill\", \"tip\", **kws)\n",
      " |          ...      .add_legend())\n",
      " |      \n",
      " |      Additionally use a different marker for the hue levels:\n",
      " |      \n",
      " |      .. plot::\n",
      " |          :context: close-figs\n",
      " |      \n",
      " |          >>> g = sns.FacetGrid(tips, col=\"sex\", hue=\"time\", palette=pal,\n",
      " |          ...                   hue_order=[\"Dinner\", \"Lunch\"],\n",
      " |          ...                   hue_kws=dict(marker=[\"^\", \"v\"]))\n",
      " |          >>> g = (g.map(plt.scatter, \"total_bill\", \"tip\", **kws)\n",
      " |          ...      .add_legend())\n",
      " |      \n",
      " |      \"Wrap\" a column variable with many levels into the rows:\n",
      " |      \n",
      " |      .. plot::\n",
      " |          :context: close-figs\n",
      " |      \n",
      " |          >>> attend = sns.load_dataset(\"attention\")\n",
      " |          >>> g = sns.FacetGrid(attend, col=\"subject\", col_wrap=5, size=1.5)\n",
      " |          >>> g = g.map(plt.plot, \"solutions\", \"score\", marker=\".\")\n",
      " |      \n",
      " |      Define a custom bivariate function to map onto the grid:\n",
      " |      \n",
      " |      .. plot::\n",
      " |          :context: close-figs\n",
      " |      \n",
      " |          >>> from scipy import stats\n",
      " |          >>> def qqplot(x, y, **kwargs):\n",
      " |          ...     _, xr = stats.probplot(x, fit=False)\n",
      " |          ...     _, yr = stats.probplot(y, fit=False)\n",
      " |          ...     plt.scatter(xr, yr, **kwargs)\n",
      " |          >>> g = sns.FacetGrid(tips, col=\"smoker\", hue=\"sex\")\n",
      " |          >>> g = (g.map(qqplot, \"total_bill\", \"tip\", **kws)\n",
      " |          ...       .add_legend())\n",
      " |      \n",
      " |      Define a custom function that uses a ``DataFrame`` object and accepts\n",
      " |      column names as positional variables:\n",
      " |      \n",
      " |      .. plot::\n",
      " |          :context: close-figs\n",
      " |      \n",
      " |          >>> import pandas as pd\n",
      " |          >>> df = pd.DataFrame(\n",
      " |          ...     data=np.random.randn(90, 4),\n",
      " |          ...     columns=pd.Series(list(\"ABCD\"), name=\"walk\"),\n",
      " |          ...     index=pd.date_range(\"2015-01-01\", \"2015-03-31\",\n",
      " |          ...                         name=\"date\"))\n",
      " |          >>> df = df.cumsum(axis=0).stack().reset_index(name=\"val\")\n",
      " |          >>> def dateplot(x, y, **kwargs):\n",
      " |          ...     ax = plt.gca()\n",
      " |          ...     data = kwargs.pop(\"data\")\n",
      " |          ...     data.plot(x=x, y=y, ax=ax, grid=False, **kwargs)\n",
      " |          >>> g = sns.FacetGrid(df, col=\"walk\", col_wrap=2, size=3.5)\n",
      " |          >>> g = g.map_dataframe(dateplot, \"date\", \"val\")\n",
      " |      \n",
      " |      Use different axes labels after plotting:\n",
      " |      \n",
      " |      .. plot::\n",
      " |          :context: close-figs\n",
      " |      \n",
      " |          >>> g = sns.FacetGrid(tips, col=\"smoker\", row=\"sex\")\n",
      " |          >>> g = (g.map(plt.scatter, \"total_bill\", \"tip\", color=\"g\", **kws)\n",
      " |          ...       .set_axis_labels(\"Total bill (US Dollars)\", \"Tip\"))\n",
      " |      \n",
      " |      Set other attributes that are shared across the facetes:\n",
      " |      \n",
      " |      .. plot::\n",
      " |          :context: close-figs\n",
      " |      \n",
      " |          >>> g = sns.FacetGrid(tips, col=\"smoker\", row=\"sex\")\n",
      " |          >>> g = (g.map(plt.scatter, \"total_bill\", \"tip\", color=\"r\", **kws)\n",
      " |          ...       .set(xlim=(0, 60), ylim=(0, 12),\n",
      " |          ...            xticks=[10, 30, 50], yticks=[2, 6, 10]))\n",
      " |      \n",
      " |      Use a different template for the facet titles:\n",
      " |      \n",
      " |      .. plot::\n",
      " |          :context: close-figs\n",
      " |      \n",
      " |          >>> g = sns.FacetGrid(tips, col=\"size\", col_wrap=3)\n",
      " |          >>> g = (g.map(plt.hist, \"tip\", bins=np.arange(0, 13), color=\"c\")\n",
      " |          ...       .set_titles(\"{col_name} diners\"))\n",
      " |      \n",
      " |      Tighten the facets:\n",
      " |      \n",
      " |      .. plot::\n",
      " |          :context: close-figs\n",
      " |      \n",
      " |          >>> g = sns.FacetGrid(tips, col=\"smoker\", row=\"sex\",\n",
      " |          ...                   margin_titles=True)\n",
      " |          >>> g = (g.map(plt.scatter, \"total_bill\", \"tip\", color=\"m\", **kws)\n",
      " |          ...       .set(xlim=(0, 60), ylim=(0, 12),\n",
      " |          ...            xticks=[10, 30, 50], yticks=[2, 6, 10])\n",
      " |          ...       .fig.subplots_adjust(wspace=.05, hspace=.05))\n",
      " |  \n",
      " |  despine(self, **kwargs)\n",
      " |      Remove axis spines from the facets.\n",
      " |  \n",
      " |  facet_axis(self, row_i, col_j)\n",
      " |      Make the axis identified by these indices active and return it.\n",
      " |  \n",
      " |  facet_data(self)\n",
      " |      Generator for name indices and data subsets for each facet.\n",
      " |      \n",
      " |      Yields\n",
      " |      ------\n",
      " |      (i, j, k), data_ijk : tuple of ints, DataFrame\n",
      " |          The ints provide an index into the {row, col, hue}_names attribute,\n",
      " |          and the dataframe contains a subset of the full data corresponding\n",
      " |          to each facet. The generator yields subsets that correspond with\n",
      " |          the self.axes.flat iterator, or self.axes[i, j] when `col_wrap`\n",
      " |          is None.\n",
      " |  \n",
      " |  map(self, func, *args, **kwargs)\n",
      " |      Apply a plotting function to each facet's subset of the data.\n",
      " |      \n",
      " |      Parameters\n",
      " |      ----------\n",
      " |      func : callable\n",
      " |          A plotting function that takes data and keyword arguments. It\n",
      " |          must plot to the currently active matplotlib Axes and take a\n",
      " |          `color` keyword argument. If faceting on the `hue` dimension,\n",
      " |          it must also take a `label` keyword argument.\n",
      " |      args : strings\n",
      " |          Column names in self.data that identify variables with data to\n",
      " |          plot. The data for each variable is passed to `func` in the\n",
      " |          order the variables are specified in the call.\n",
      " |      kwargs : keyword arguments\n",
      " |          All keyword arguments are passed to the plotting function.\n",
      " |      \n",
      " |      Returns\n",
      " |      -------\n",
      " |      self : object\n",
      " |          Returns self.\n",
      " |  \n",
      " |  map_dataframe(self, func, *args, **kwargs)\n",
      " |      Like `map` but passes args as strings and inserts data in kwargs.\n",
      " |      \n",
      " |      This method is suitable for plotting with functions that accept a\n",
      " |      long-form DataFrame as a `data` keyword argument and access the\n",
      " |      data in that DataFrame using string variable names.\n",
      " |      \n",
      " |      Parameters\n",
      " |      ----------\n",
      " |      func : callable\n",
      " |          A plotting function that takes data and keyword arguments. Unlike\n",
      " |          the `map` method, a function used here must \"understand\" Pandas\n",
      " |          objects. It also must plot to the currently active matplotlib Axes\n",
      " |          and take a `color` keyword argument. If faceting on the `hue`\n",
      " |          dimension, it must also take a `label` keyword argument.\n",
      " |      args : strings\n",
      " |          Column names in self.data that identify variables with data to\n",
      " |          plot. The data for each variable is passed to `func` in the\n",
      " |          order the variables are specified in the call.\n",
      " |      kwargs : keyword arguments\n",
      " |          All keyword arguments are passed to the plotting function.\n",
      " |      \n",
      " |      Returns\n",
      " |      -------\n",
      " |      self : object\n",
      " |          Returns self.\n",
      " |  \n",
      " |  set_axis_labels(self, x_var=None, y_var=None)\n",
      " |      Set axis labels on the left column and bottom row of the grid.\n",
      " |  \n",
      " |  set_titles(self, template=None, row_template=None, col_template=None, **kwargs)\n",
      " |      Draw titles either above each facet or on the grid margins.\n",
      " |      \n",
      " |      Parameters\n",
      " |      ----------\n",
      " |      template : string\n",
      " |          Template for all titles with the formatting keys {col_var} and\n",
      " |          {col_name} (if using a `col` faceting variable) and/or {row_var}\n",
      " |          and {row_name} (if using a `row` faceting variable).\n",
      " |      row_template:\n",
      " |          Template for the row variable when titles are drawn on the grid\n",
      " |          margins. Must have {row_var} and {row_name} formatting keys.\n",
      " |      col_template:\n",
      " |          Template for the row variable when titles are drawn on the grid\n",
      " |          margins. Must have {col_var} and {col_name} formatting keys.\n",
      " |      \n",
      " |      Returns\n",
      " |      -------\n",
      " |      self: object\n",
      " |          Returns self.\n",
      " |  \n",
      " |  set_xlabels(self, label=None, **kwargs)\n",
      " |      Label the x axis on the bottom row of the grid.\n",
      " |  \n",
      " |  set_xticklabels(self, labels=None, step=None, **kwargs)\n",
      " |      Set x axis tick labels on the bottom row of the grid.\n",
      " |  \n",
      " |  set_ylabels(self, label=None, **kwargs)\n",
      " |      Label the y axis on the left column of the grid.\n",
      " |  \n",
      " |  set_yticklabels(self, labels=None, **kwargs)\n",
      " |      Set y axis tick labels on the left column of the grid.\n",
      " |  \n",
      " |  ----------------------------------------------------------------------\n",
      " |  Data descriptors defined here:\n",
      " |  \n",
      " |  ax\n",
      " |      Easy access to single axes.\n",
      " |  \n",
      " |  ----------------------------------------------------------------------\n",
      " |  Methods inherited from Grid:\n",
      " |  \n",
      " |  add_legend(self, legend_data=None, title=None, label_order=None, **kwargs)\n",
      " |      Draw a legend, maybe placing it outside axes and resizing the figure.\n",
      " |      \n",
      " |      Parameters\n",
      " |      ----------\n",
      " |      legend_data : dict, optional\n",
      " |          Dictionary mapping label names to matplotlib artist handles. The\n",
      " |          default reads from ``self._legend_data``.\n",
      " |      title : string, optional\n",
      " |          Title for the legend. The default reads from ``self._hue_var``.\n",
      " |      label_order : list of labels, optional\n",
      " |          The order that the legend entries should appear in. The default\n",
      " |          reads from ``self.hue_names`` or sorts the keys in ``legend_data``.\n",
      " |      kwargs : key, value pairings\n",
      " |          Other keyword arguments are passed to the underlying legend methods\n",
      " |          on the Figure or Axes object.\n",
      " |      \n",
      " |      Returns\n",
      " |      -------\n",
      " |      self : Grid instance\n",
      " |          Returns self for easy chaining.\n",
      " |  \n",
      " |  savefig(self, *args, **kwargs)\n",
      " |      Save the figure.\n",
      " |  \n",
      " |  set(self, **kwargs)\n",
      " |      Set attributes on each subplot Axes.\n",
      " |  \n",
      " |  ----------------------------------------------------------------------\n",
      " |  Data descriptors inherited from Grid:\n",
      " |  \n",
      " |  __dict__\n",
      " |      dictionary for instance variables (if defined)\n",
      " |  \n",
      " |  __weakref__\n",
      " |      list of weak references to the object (if defined)\n",
      "\n"
     ]
    }
   ],
   "source": [
    "help(sns.FacetGrid)"
   ]
  },
  {
   "cell_type": "code",
   "execution_count": 102,
   "metadata": {},
   "outputs": [
    {
     "data": {
      "text/plain": [
       "<matplotlib.figure.Figure at 0x1a286b2198>"
      ]
     },
     "metadata": {},
     "output_type": "display_data"
    },
    {
     "data": {
      "image/png": "[encoded data removed]",
      "text/plain": [
       "<matplotlib.figure.Figure at 0x1a286d01d0>"
      ]
     },
     "metadata": {},
     "output_type": "display_data"
    }
   ],
   "source": [
    "plt.figure(figsize=(5,2))\n",
    "g = sns.FacetGrid(yelp, col=\"stars\", size=4)\n",
    "g = g.map(plt.hist, \"text length\", bins=10);"
   ]
  },
  {
   "cell_type": "markdown",
   "metadata": {},
   "source": [
    "**Create a boxplot of text length for each star category.**"
   ]
  },
  {
   "cell_type": "code",
   "execution_count": 32,
   "metadata": {},
   "outputs": [
    {
     "data": {
      "text/plain": [
       "<matplotlib.axes._subplots.AxesSubplot at 0x1a239bdf28>"
      ]
     },
     "execution_count": 32,
     "metadata": {},
     "output_type": "execute_result"
    },
    {
     "data": {
      "image/png": "[encoded data removed]",
      "text/plain": [
       "<matplotlib.figure.Figure at 0x1a23790eb8>"
      ]
     },
     "metadata": {},
     "output_type": "display_data"
    }
   ],
   "source": [
    "sns.boxplot(x='stars',y='text length',data=yelp)"
   ]
  },
  {
   "cell_type": "markdown",
   "metadata": {},
   "source": [
    "**Create a countplot of the number of occurrences for each type of star rating.**"
   ]
  },
  {
   "cell_type": "code",
   "execution_count": 33,
   "metadata": {},
   "outputs": [
    {
     "data": {
      "text/plain": [
       "<matplotlib.axes._subplots.AxesSubplot at 0x1a2391b748>"
      ]
     },
     "execution_count": 33,
     "metadata": {},
     "output_type": "execute_result"
    },
    {
     "data": {
      "image/png": "[encoded data removed]",
      "text/plain": [
       "<matplotlib.figure.Figure at 0x1a22370f28>"
      ]
     },
     "metadata": {},
     "output_type": "display_data"
    }
   ],
   "source": [
    "sns.countplot(x='stars',data=yelp)"
   ]
  },
  {
   "cell_type": "markdown",
   "metadata": {},
   "source": [
    "** Use groupby to get the mean values of the numerical columns, you should be able to create this dataframe with the operation:**"
   ]
  },
  {
   "cell_type": "code",
   "execution_count": 37,
   "metadata": {},
   "outputs": [
    {
     "data": {
      "text/html": [
       "<div>\n",
       "<style scoped>\n",
       "    .dataframe tbody tr th:only-of-type {\n",
       "        vertical-align: middle;\n",
       "    }\n",
       "\n",
       "    .dataframe tbody tr th {\n",
       "        vertical-align: top;\n",
       "    }\n",
       "\n",
       "    .dataframe thead th {\n",
       "        text-align: right;\n",
       "    }\n",
       "</style>\n",
       "<table border=\"1\" class=\"dataframe\">\n",
       "  <thead>\n",
       "    <tr style=\"text-align: right;\">\n",
       "      <th></th>\n",
       "      <th>cool</th>\n",
       "      <th>useful</th>\n",
       "      <th>funny</th>\n",
       "      <th>text length</th>\n",
       "    </tr>\n",
       "    <tr>\n",
       "      <th>stars</th>\n",
       "      <th></th>\n",
       "      <th></th>\n",
       "      <th></th>\n",
       "      <th></th>\n",
       "    </tr>\n",
       "  </thead>\n",
       "  <tbody>\n",
       "    <tr>\n",
       "      <th>1</th>\n",
       "      <td>0.576769</td>\n",
       "      <td>1.604806</td>\n",
       "      <td>1.056075</td>\n",
       "      <td>153.953271</td>\n",
       "    </tr>\n",
       "    <tr>\n",
       "      <th>2</th>\n",
       "      <td>0.719525</td>\n",
       "      <td>1.563107</td>\n",
       "      <td>0.875944</td>\n",
       "      <td>156.435814</td>\n",
       "    </tr>\n",
       "    <tr>\n",
       "      <th>3</th>\n",
       "      <td>0.788501</td>\n",
       "      <td>1.306639</td>\n",
       "      <td>0.694730</td>\n",
       "      <td>140.714579</td>\n",
       "    </tr>\n",
       "    <tr>\n",
       "      <th>4</th>\n",
       "      <td>0.954623</td>\n",
       "      <td>1.395916</td>\n",
       "      <td>0.670448</td>\n",
       "      <td>131.174135</td>\n",
       "    </tr>\n",
       "    <tr>\n",
       "      <th>5</th>\n",
       "      <td>0.944261</td>\n",
       "      <td>1.381780</td>\n",
       "      <td>0.608631</td>\n",
       "      <td>114.463590</td>\n",
       "    </tr>\n",
       "  </tbody>\n",
       "</table>\n",
       "</div>"
      ],
      "text/plain": [
       "           cool    useful     funny  text length\n",
       "stars                                           \n",
       "1      0.576769  1.604806  1.056075   153.953271\n",
       "2      0.719525  1.563107  0.875944   156.435814\n",
       "3      0.788501  1.306639  0.694730   140.714579\n",
       "4      0.954623  1.395916  0.670448   131.174135\n",
       "5      0.944261  1.381780  0.608631   114.463590"
      ]
     },
     "execution_count": 37,
     "metadata": {},
     "output_type": "execute_result"
    }
   ],
   "source": [
    "yelpmeans = yelp.groupby('stars').mean()\n",
    "yelpmeans"
   ]
  },
  {
   "cell_type": "markdown",
   "metadata": {},
   "source": [
    "**Use the corr() method on that groupby dataframe to produce this dataframe:**"
   ]
  },
  {
   "cell_type": "code",
   "execution_count": 38,
   "metadata": {},
   "outputs": [
    {
     "data": {
      "text/html": [
       "<div>\n",
       "<style scoped>\n",
       "    .dataframe tbody tr th:only-of-type {\n",
       "        vertical-align: middle;\n",
       "    }\n",
       "\n",
       "    .dataframe tbody tr th {\n",
       "        vertical-align: top;\n",
       "    }\n",
       "\n",
       "    .dataframe thead th {\n",
       "        text-align: right;\n",
       "    }\n",
       "</style>\n",
       "<table border=\"1\" class=\"dataframe\">\n",
       "  <thead>\n",
       "    <tr style=\"text-align: right;\">\n",
       "      <th></th>\n",
       "      <th>cool</th>\n",
       "      <th>useful</th>\n",
       "      <th>funny</th>\n",
       "      <th>text length</th>\n",
       "    </tr>\n",
       "  </thead>\n",
       "  <tbody>\n",
       "    <tr>\n",
       "      <th>cool</th>\n",
       "      <td>1.000000</td>\n",
       "      <td>-0.743329</td>\n",
       "      <td>-0.944939</td>\n",
       "      <td>-0.865362</td>\n",
       "    </tr>\n",
       "    <tr>\n",
       "      <th>useful</th>\n",
       "      <td>-0.743329</td>\n",
       "      <td>1.000000</td>\n",
       "      <td>0.894506</td>\n",
       "      <td>0.697506</td>\n",
       "    </tr>\n",
       "    <tr>\n",
       "      <th>funny</th>\n",
       "      <td>-0.944939</td>\n",
       "      <td>0.894506</td>\n",
       "      <td>1.000000</td>\n",
       "      <td>0.847204</td>\n",
       "    </tr>\n",
       "    <tr>\n",
       "      <th>text length</th>\n",
       "      <td>-0.865362</td>\n",
       "      <td>0.697506</td>\n",
       "      <td>0.847204</td>\n",
       "      <td>1.000000</td>\n",
       "    </tr>\n",
       "  </tbody>\n",
       "</table>\n",
       "</div>"
      ],
      "text/plain": [
       "                 cool    useful     funny  text length\n",
       "cool         1.000000 -0.743329 -0.944939    -0.865362\n",
       "useful      -0.743329  1.000000  0.894506     0.697506\n",
       "funny       -0.944939  0.894506  1.000000     0.847204\n",
       "text length -0.865362  0.697506  0.847204     1.000000"
      ]
     },
     "execution_count": 38,
     "metadata": {},
     "output_type": "execute_result"
    }
   ],
   "source": [
    "yelpmeans.corr()"
   ]
  },
  {
   "cell_type": "markdown",
   "metadata": {},
   "source": [
    "**Then use seaborn to create a heatmap based off that .corr() dataframe:**"
   ]
  },
  {
   "cell_type": "code",
   "execution_count": 39,
   "metadata": {},
   "outputs": [
    {
     "data": {
      "text/plain": [
       "<matplotlib.axes._subplots.AxesSubplot at 0x1a226daa20>"
      ]
     },
     "execution_count": 39,
     "metadata": {},
     "output_type": "execute_result"
    },
    {
     "data": {
      "image/png": "[encoded data removed]",
      "text/plain": [
       "<matplotlib.figure.Figure at 0x1a226f2160>"
      ]
     },
     "metadata": {},
     "output_type": "display_data"
    }
   ],
   "source": [
    "sns.heatmap(yelpmeans.corr())"
   ]
  },
  {
   "cell_type": "markdown",
   "metadata": {},
   "source": [
    "## NLP Classification Task\n",
    "\n",
    "Let's move on to the actual task. To make things a little easier, go ahead and only grab reviews that were either 1 star or 5 stars.\n",
    "\n",
    "**Create a dataframe called yelp_class that contains the columns of yelp dataframe but for only the 1 or 5 star reviews.**"
   ]
  },
  {
   "cell_type": "code",
   "execution_count": 60,
   "metadata": {},
   "outputs": [
    {
     "data": {
      "text/html": [
       "<div>\n",
       "<style scoped>\n",
       "    .dataframe tbody tr th:only-of-type {\n",
       "        vertical-align: middle;\n",
       "    }\n",
       "\n",
       "    .dataframe tbody tr th {\n",
       "        vertical-align: top;\n",
       "    }\n",
       "\n",
       "    .dataframe thead th {\n",
       "        text-align: right;\n",
       "    }\n",
       "</style>\n",
       "<table border=\"1\" class=\"dataframe\">\n",
       "  <thead>\n",
       "    <tr style=\"text-align: right;\">\n",
       "      <th></th>\n",
       "      <th>business_id</th>\n",
       "      <th>date</th>\n",
       "      <th>review_id</th>\n",
       "      <th>text</th>\n",
       "      <th>type</th>\n",
       "      <th>user_id</th>\n",
       "      <th>cool</th>\n",
       "      <th>useful</th>\n",
       "      <th>funny</th>\n",
       "      <th>text length</th>\n",
       "    </tr>\n",
       "    <tr>\n",
       "      <th>stars</th>\n",
       "      <th></th>\n",
       "      <th></th>\n",
       "      <th></th>\n",
       "      <th></th>\n",
       "      <th></th>\n",
       "      <th></th>\n",
       "      <th></th>\n",
       "      <th></th>\n",
       "      <th></th>\n",
       "      <th></th>\n",
       "    </tr>\n",
       "  </thead>\n",
       "  <tbody>\n",
       "    <tr>\n",
       "      <th>1</th>\n",
       "      <td>749</td>\n",
       "      <td>749</td>\n",
       "      <td>749</td>\n",
       "      <td>749</td>\n",
       "      <td>749</td>\n",
       "      <td>749</td>\n",
       "      <td>749</td>\n",
       "      <td>749</td>\n",
       "      <td>749</td>\n",
       "      <td>749</td>\n",
       "    </tr>\n",
       "    <tr>\n",
       "      <th>5</th>\n",
       "      <td>3337</td>\n",
       "      <td>3337</td>\n",
       "      <td>3337</td>\n",
       "      <td>3337</td>\n",
       "      <td>3337</td>\n",
       "      <td>3337</td>\n",
       "      <td>3337</td>\n",
       "      <td>3337</td>\n",
       "      <td>3337</td>\n",
       "      <td>3337</td>\n",
       "    </tr>\n",
       "  </tbody>\n",
       "</table>\n",
       "</div>"
      ],
      "text/plain": [
       "       business_id  date  review_id  text  type  user_id  cool  useful  funny  \\\n",
       "stars                                                                           \n",
       "1              749   749        749   749   749      749   749     749    749   \n",
       "5             3337  3337       3337  3337  3337     3337  3337    3337   3337   \n",
       "\n",
       "       text length  \n",
       "stars               \n",
       "1              749  \n",
       "5             3337  "
      ]
     },
     "execution_count": 60,
     "metadata": {},
     "output_type": "execute_result"
    }
   ],
   "source": [
    "yelp_class = yelp[(yelp['stars'] == 1) | (yelp['stars'] == 5)]\n",
    "yelp_class_counts = yelp_class.groupby('stars').count()\n",
    "yelp_class_counts"
   ]
  },
  {
   "cell_type": "markdown",
   "metadata": {},
   "source": [
    "** Create two objects X and y. X will be the 'text' column of yelp_class and y will be the 'stars' column of yelp_class. (Your features and target/labels)**"
   ]
  },
  {
   "cell_type": "code",
   "execution_count": 107,
   "metadata": {
    "collapsed": true
   },
   "outputs": [],
   "source": [
    "X = yelp_class['text']\n",
    "y = yelp_class['stars']"
   ]
  },
  {
   "cell_type": "markdown",
   "metadata": {},
   "source": [
    "**Import CountVectorizer and create a CountVectorizer object.**"
   ]
  },
  {
   "cell_type": "code",
   "execution_count": 108,
   "metadata": {
    "collapsed": true
   },
   "outputs": [],
   "source": [
    "from sklearn.feature_extraction.text import CountVectorizer\n",
    "count_vectorizer = CountVectorizer()"
   ]
  },
  {
   "cell_type": "markdown",
   "metadata": {},
   "source": [
    "** Use the fit_transform method on the CountVectorizer object and pass in X (the 'text' column). Save this result by overwriting X.**"
   ]
  },
  {
   "cell_type": "code",
   "execution_count": 109,
   "metadata": {},
   "outputs": [],
   "source": [
    "X = count_vectorizer.fit_transform(X)"
   ]
  },
  {
   "cell_type": "markdown",
   "metadata": {},
   "source": [
    "## Train Test Split\n",
    "\n",
    "Let's split our data into training and testing data.\n",
    "\n",
    "** Use train_test_split to split up the data into X_train, X_test, y_train, y_test. Use test_size=0.3 and random_state=101 **"
   ]
  },
  {
   "cell_type": "code",
   "execution_count": 110,
   "metadata": {
    "collapsed": true
   },
   "outputs": [],
   "source": [
    "from sklearn.cross_validation import train_test_split"
   ]
  },
  {
   "cell_type": "code",
   "execution_count": 111,
   "metadata": {
    "collapsed": true
   },
   "outputs": [],
   "source": [
    "X_train,X_test,y_train,y_test = train_test_split(X,y,test_size=0.3)"
   ]
  },
  {
   "cell_type": "markdown",
   "metadata": {},
   "source": [
    "## Training a Model\n",
    "\n",
    "Time to train a model!\n",
    "\n",
    "** Import MultinomialNB and create an instance of the estimator and call is nb **"
   ]
  },
  {
   "cell_type": "code",
   "execution_count": 112,
   "metadata": {
    "collapsed": true
   },
   "outputs": [],
   "source": [
    "from sklearn.naive_bayes import MultinomialNB\n",
    "nb = MultinomialNB()"
   ]
  },
  {
   "cell_type": "markdown",
   "metadata": {},
   "source": [
    "**Now fit nb using the training data.**"
   ]
  },
  {
   "cell_type": "code",
   "execution_count": 113,
   "metadata": {},
   "outputs": [
    {
     "data": {
      "text/plain": [
       "MultinomialNB(alpha=1.0, class_prior=None, fit_prior=True)"
      ]
     },
     "execution_count": 113,
     "metadata": {},
     "output_type": "execute_result"
    }
   ],
   "source": [
    "nb.fit(X_train,y_train)"
   ]
  },
  {
   "cell_type": "markdown",
   "metadata": {},
   "source": [
    "## Predictions and Evaluations\n",
    "\n",
    "Time to see how our model did!\n",
    "\n",
    "**Use the predict method off of nb to predict labels from X_test.**"
   ]
  },
  {
   "cell_type": "code",
   "execution_count": 114,
   "metadata": {},
   "outputs": [],
   "source": [
    "predictions = nb.predict(X_test)"
   ]
  },
  {
   "cell_type": "markdown",
   "metadata": {},
   "source": [
    "** Create a confusion matrix and classification report using these predictions and y_test **"
   ]
  },
  {
   "cell_type": "code",
   "execution_count": 115,
   "metadata": {
    "collapsed": true
   },
   "outputs": [],
   "source": [
    "from sklearn.metrics import classification_report, confusion_matrix"
   ]
  },
  {
   "cell_type": "code",
   "execution_count": 116,
   "metadata": {},
   "outputs": [
    {
     "name": "stdout",
     "output_type": "stream",
     "text": [
      "[[163  69]\n",
      " [ 28 966]]\n"
     ]
    }
   ],
   "source": [
    "print(confusion_matrix(y_test,predictions))"
   ]
  },
  {
   "cell_type": "code",
   "execution_count": 117,
   "metadata": {},
   "outputs": [
    {
     "name": "stdout",
     "output_type": "stream",
     "text": [
      "             precision    recall  f1-score   support\n",
      "\n",
      "          1       0.85      0.70      0.77       232\n",
      "          5       0.93      0.97      0.95       994\n",
      "\n",
      "avg / total       0.92      0.92      0.92      1226\n",
      "\n"
     ]
    }
   ],
   "source": [
    "print(classification_report(y_test,predictions))"
   ]
  },
  {
   "cell_type": "markdown",
   "metadata": {},
   "source": [
    "**Great! Let's see what happens if we try to include TF-IDF to this process using a pipeline.**"
   ]
  },
  {
   "cell_type": "markdown",
   "metadata": {},
   "source": [
    "# Using Text Processing\n",
    "\n",
    "** Import TfidfTransformer from sklearn. **"
   ]
  },
  {
   "cell_type": "code",
   "execution_count": 91,
   "metadata": {
    "collapsed": true
   },
   "outputs": [],
   "source": [
    "from sklearn.feature_extraction.text import TfidfTransformer"
   ]
  },
  {
   "cell_type": "markdown",
   "metadata": {},
   "source": [
    "** Import Pipeline from sklearn. **"
   ]
  },
  {
   "cell_type": "code",
   "execution_count": 94,
   "metadata": {},
   "outputs": [],
   "source": [
    "from sklearn.pipeline import Pipeline"
   ]
  },
  {
   "cell_type": "markdown",
   "metadata": {},
   "source": [
    "** Now create a pipeline with the following steps:CountVectorizer(), TfidfTransformer(),MultinomialNB()**"
   ]
  },
  {
   "cell_type": "code",
   "execution_count": 95,
   "metadata": {},
   "outputs": [],
   "source": [
    "pipeline = Pipeline([\n",
    "    ('counts',CountVectorizer()),\n",
    "    ('transform',TfidfTransformer()),\n",
    "    ('fit',MultinomialNB())\n",
    "])"
   ]
  },
  {
   "cell_type": "markdown",
   "metadata": {},
   "source": [
    "## Using the Pipeline\n",
    "\n",
    "**Time to use the pipeline! Remember this pipeline has all your pre-process steps in it already, meaning we'll need to re-split the original data (Remember that we overwrote X as the CountVectorized version. What we need is just the text**"
   ]
  },
  {
   "cell_type": "markdown",
   "metadata": {},
   "source": [
    "### Train Test Split\n",
    "\n",
    "**Redo the train test split on the yelp_class object.**"
   ]
  },
  {
   "cell_type": "code",
   "execution_count": 126,
   "metadata": {
    "collapsed": true
   },
   "outputs": [],
   "source": [
    "X = yelp_class['text']\n",
    "y = yelp_class['stars']\n",
    "X_train,X_test,y_train,y_test = train_test_split(X,y,test_size=0.3)"
   ]
  },
  {
   "cell_type": "markdown",
   "metadata": {},
   "source": [
    "**Now fit the pipeline to the training data. Remember you can't use the same training data as last time because that data has already been vectorized. We need to pass in just the text and labels**"
   ]
  },
  {
   "cell_type": "code",
   "execution_count": 127,
   "metadata": {},
   "outputs": [
    {
     "data": {
      "text/plain": [
       "Pipeline(memory=None,\n",
       "     steps=[('counts', CountVectorizer(analyzer='word', binary=False, decode_error='strict',\n",
       "        dtype=<class 'numpy.int64'>, encoding='utf-8', input='content',\n",
       "        lowercase=True, max_df=1.0, max_features=None, min_df=1,\n",
       "        ngram_range=(1, 1), preprocessor=None, stop_words=None,\n",
       "        str...inear_tf=False, use_idf=True)), ('fit', MultinomialNB(alpha=1.0, class_prior=None, fit_prior=True))])"
      ]
     },
     "execution_count": 127,
     "metadata": {},
     "output_type": "execute_result"
    }
   ],
   "source": [
    "pipeline.fit(X_train,y_train)"
   ]
  },
  {
   "cell_type": "markdown",
   "metadata": {},
   "source": [
    "### Predictions and Evaluation\n",
    "\n",
    "** Now use the pipeline to predict from the X_test and create a classification report and confusion matrix. You should notice strange results.**"
   ]
  },
  {
   "cell_type": "code",
   "execution_count": 128,
   "metadata": {},
   "outputs": [],
   "source": [
    "preds = pipeline.predict(X_test)"
   ]
  },
  {
   "cell_type": "code",
   "execution_count": 129,
   "metadata": {},
   "outputs": [
    {
     "name": "stdout",
     "output_type": "stream",
     "text": [
      "[[  1 246]\n",
      " [  0 979]]\n"
     ]
    }
   ],
   "source": [
    "print(confusion_matrix(y_test,preds))"
   ]
  },
  {
   "cell_type": "code",
   "execution_count": 130,
   "metadata": {},
   "outputs": [
    {
     "name": "stdout",
     "output_type": "stream",
     "text": [
      "             precision    recall  f1-score   support\n",
      "\n",
      "          1       1.00      0.00      0.01       247\n",
      "          5       0.80      1.00      0.89       979\n",
      "\n",
      "avg / total       0.84      0.80      0.71      1226\n",
      "\n"
     ]
    }
   ],
   "source": [
    "print(classification_report(y_test,preds))"
   ]
  },
  {
   "cell_type": "markdown",
   "metadata": {},
   "source": [
    "Looks like Tf-Idf actually made things worse! That is it for this project. But there is still a lot more you can play with:\n",
    "\n",
    "**Some other things to try....**\n",
    "Try going back and playing around with the pipeline steps and seeing if creating a custom analyzer like we did in the lecture helps (note: it probably won't). Or recreate the pipeline with just the CountVectorizer() and NaiveBayes. Does changing the ML model at the end to another classifier help at all?"
   ]
  },
  {
   "cell_type": "markdown",
   "metadata": {},
   "source": [
    "# Great Job!"
   ]
  }
 ],
 "metadata": {
  "kernelspec": {
   "display_name": "Python 3",
   "language": "python",
   "name": "python3"
  },
  "language_info": {
   "codemirror_mode": {
    "name": "ipython",
    "version": 3
   },
   "file_extension": ".py",
   "mimetype": "text/x-python",
   "name": "python",
   "nbconvert_exporter": "python",
   "pygments_lexer": "ipython3",
   "version": "3.6.2"
  }
 },
 "nbformat": 4,
 "nbformat_minor": 1
}
