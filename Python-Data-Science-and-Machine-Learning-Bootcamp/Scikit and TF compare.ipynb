{
 "cells": [
  {
   "cell_type": "code",
   "execution_count": 1,
   "metadata": {},
   "outputs": [],
   "source": [
    "from __future__ import absolute_import\n",
    "from __future__ import division\n",
    "from __future__ import print_function"
   ]
  },
  {
   "cell_type": "code",
   "execution_count": 2,
   "metadata": {},
   "outputs": [],
   "source": [
    "from sklearn import svm\n",
    "from sklearn import metrics\n",
    "from sklearn import datasets\n",
    "from sklearn import model_selection"
   ]
  },
  {
   "cell_type": "code",
   "execution_count": 3,
   "metadata": {},
   "outputs": [],
   "source": [
    "import tensorflow as tf\n",
    "# Suppress verbose output from TensorFlow\n",
    "import os\n",
    "os.environ['TF_CPP_MIN_LOG_LEVEL'] = '3'"
   ]
  },
  {
   "cell_type": "code",
   "execution_count": 4,
   "metadata": {},
   "outputs": [],
   "source": [
    "# Load Iris data\n",
    "iris = datasets.load_iris()\n",
    "# Load features and classes\n",
    "x_train, x_test, y_train, y_test = model_selection.train_test_split(iris.data, \n",
    "                                                                    iris.target, \n",
    "                                                                    test_size=0.6, \n",
    "                                                                    random_state=42)"
   ]
  },
  {
   "cell_type": "code",
   "execution_count": 5,
   "metadata": {},
   "outputs": [],
   "source": [
    "# ------------------------------------------\n",
    "# Scikit Learn Implementation\n",
    "# ------------------------------------------\n",
    "# Use support vector classification\n",
    "classifier_sk = svm.SVC()\n",
    "# Use the train data to train this classifier\n",
    "classifier_sk.fit(x_train, y_train)\n",
    "# Use the trained model to predict on the test data\n",
    "predictions = classifier_sk.predict(x_test)\n",
    "score = metrics.accuracy_score(y_test, predictions)"
   ]
  },
  {
   "cell_type": "code",
   "execution_count": 6,
   "metadata": {},
   "outputs": [
    {
     "name": "stdout",
     "output_type": "stream",
     "text": [
      "Sklearn Accuracy: 0.977778\n"
     ]
    }
   ],
   "source": [
    "print('Sklearn Accuracy: {0:f}'.format(score))"
   ]
  },
  {
   "cell_type": "code",
   "execution_count": 7,
   "metadata": {},
   "outputs": [
    {
     "name": "stdout",
     "output_type": "stream",
     "text": [
      "WARNING:tensorflow:float64 is not supported by many models, consider casting to float32.\n",
      "INFO:tensorflow:Using default config.\n",
      "INFO:tensorflow:Using config: {'_task_type': None, '_task_id': 0, '_cluster_spec': <tensorflow.python.training.server_lib.ClusterSpec object at 0x1a10af36d8>, '_master': '', '_num_ps_replicas': 0, '_num_worker_replicas': 0, '_environment': 'local', '_is_chief': True, '_evaluation_master': '', '_tf_config': gpu_options {\n",
      "  per_process_gpu_memory_fraction: 1.0\n",
      "}\n",
      ", '_tf_random_seed': None, '_save_summary_steps': 100, '_save_checkpoints_secs': 600, '_save_checkpoints_steps': None, '_keep_checkpoint_max': 5, '_keep_checkpoint_every_n_hours': 10000, '_model_dir': None}\n",
      "WARNING:tensorflow:Using temporary folder as model directory: /var/folders/1s/2bb44zxn1sbd_t_md_znvwj40000gp/T/tmp_1fohiqu\n",
      "WARNING:tensorflow:From <ipython-input-7-e244b5ce9201>:9: calling BaseEstimator.fit (from tensorflow.contrib.learn.python.learn.estimators.estimator) with x is deprecated and will be removed after 2016-12-01.\n",
      "Instructions for updating:\n",
      "Estimator is decoupled from Scikit Learn interface by moving into\n",
      "separate class SKCompat. Arguments x, y and batch_size are only\n",
      "available in the SKCompat class, Estimator will only accept input_fn.\n",
      "Example conversion:\n",
      "  est = Estimator(...) -> est = SKCompat(Estimator(...))\n",
      "WARNING:tensorflow:From <ipython-input-7-e244b5ce9201>:9: calling BaseEstimator.fit (from tensorflow.contrib.learn.python.learn.estimators.estimator) with y is deprecated and will be removed after 2016-12-01.\n",
      "Instructions for updating:\n",
      "Estimator is decoupled from Scikit Learn interface by moving into\n",
      "separate class SKCompat. Arguments x, y and batch_size are only\n",
      "available in the SKCompat class, Estimator will only accept input_fn.\n",
      "Example conversion:\n",
      "  est = Estimator(...) -> est = SKCompat(Estimator(...))\n",
      "WARNING:tensorflow:float64 is not supported by many models, consider casting to float32.\n",
      "WARNING:tensorflow:From /Users/moshea/anaconda3/envs/tensorflow/lib/python3.6/site-packages/tensorflow/contrib/learn/python/learn/estimators/head.py:615: scalar_summary (from tensorflow.python.ops.logging_ops) is deprecated and will be removed after 2016-11-30.\n",
      "Instructions for updating:\n",
      "Please switch to tf.summary.scalar. Note that tf.summary.scalar uses the node name instead of the tag. This means that TensorFlow will automatically de-duplicate summary names based on the scope they are created in. Also, passing a tensor or list of tags to a scalar summary op is no longer supported.\n",
      "INFO:tensorflow:Create CheckpointSaverHook.\n"
     ]
    },
    {
     "name": "stderr",
     "output_type": "stream",
     "text": [
      "/Users/moshea/anaconda3/envs/tensorflow/lib/python3.6/site-packages/tensorflow/python/util/deprecation.py:248: FutureWarning: comparison to `None` will result in an elementwise object comparison in the future.\n",
      "  equality = a == b\n"
     ]
    },
    {
     "name": "stdout",
     "output_type": "stream",
     "text": [
      "INFO:tensorflow:Saving checkpoints for 1 into /var/folders/1s/2bb44zxn1sbd_t_md_znvwj40000gp/T/tmp_1fohiqu/model.ckpt.\n",
      "INFO:tensorflow:loss = 1.53277, step = 1\n",
      "INFO:tensorflow:global_step/sec: 1068.98\n",
      "INFO:tensorflow:loss = 0.208222, step = 101 (0.094 sec)\n",
      "INFO:tensorflow:global_step/sec: 1140.92\n",
      "INFO:tensorflow:loss = 0.117556, step = 201 (0.088 sec)\n",
      "INFO:tensorflow:global_step/sec: 1183.74\n",
      "INFO:tensorflow:loss = 0.085483, step = 301 (0.084 sec)\n",
      "INFO:tensorflow:global_step/sec: 1146.16\n",
      "INFO:tensorflow:loss = 0.0829637, step = 401 (0.087 sec)\n",
      "INFO:tensorflow:global_step/sec: 1130.07\n",
      "INFO:tensorflow:loss = 0.0771878, step = 501 (0.088 sec)\n",
      "INFO:tensorflow:global_step/sec: 1139.81\n",
      "INFO:tensorflow:loss = 0.0731621, step = 601 (0.088 sec)\n",
      "INFO:tensorflow:global_step/sec: 1138.45\n",
      "INFO:tensorflow:loss = 0.0722669, step = 701 (0.088 sec)\n",
      "INFO:tensorflow:global_step/sec: 1126.93\n",
      "INFO:tensorflow:loss = 0.0694237, step = 801 (0.089 sec)\n",
      "INFO:tensorflow:global_step/sec: 1146.67\n",
      "INFO:tensorflow:loss = 0.0674594, step = 901 (0.087 sec)\n",
      "INFO:tensorflow:global_step/sec: 1110.7\n",
      "INFO:tensorflow:loss = 0.0660865, step = 1001 (0.090 sec)\n",
      "INFO:tensorflow:global_step/sec: 1198.35\n",
      "INFO:tensorflow:loss = 0.0653786, step = 1101 (0.083 sec)\n",
      "INFO:tensorflow:global_step/sec: 1137.19\n",
      "INFO:tensorflow:loss = 0.0642233, step = 1201 (0.088 sec)\n",
      "INFO:tensorflow:global_step/sec: 1183.66\n",
      "INFO:tensorflow:loss = 0.064209, step = 1301 (0.085 sec)\n",
      "INFO:tensorflow:global_step/sec: 1124.9\n",
      "INFO:tensorflow:loss = 0.0618477, step = 1401 (0.089 sec)\n",
      "INFO:tensorflow:global_step/sec: 1131.16\n",
      "INFO:tensorflow:loss = 0.060241, step = 1501 (0.088 sec)\n",
      "INFO:tensorflow:global_step/sec: 1132.36\n",
      "INFO:tensorflow:loss = 0.0593987, step = 1601 (0.088 sec)\n",
      "INFO:tensorflow:global_step/sec: 1147.95\n",
      "INFO:tensorflow:loss = 0.0576256, step = 1701 (0.087 sec)\n",
      "INFO:tensorflow:global_step/sec: 1150.84\n",
      "INFO:tensorflow:loss = 0.0567907, step = 1801 (0.087 sec)\n",
      "INFO:tensorflow:global_step/sec: 1125.97\n",
      "INFO:tensorflow:loss = 0.056411, step = 1901 (0.089 sec)\n",
      "INFO:tensorflow:global_step/sec: 1145.66\n",
      "INFO:tensorflow:loss = 0.0550064, step = 2001 (0.087 sec)\n",
      "INFO:tensorflow:global_step/sec: 1142.64\n",
      "INFO:tensorflow:loss = 0.0522217, step = 2101 (0.088 sec)\n",
      "INFO:tensorflow:global_step/sec: 1119.81\n",
      "INFO:tensorflow:loss = 0.0542448, step = 2201 (0.089 sec)\n",
      "INFO:tensorflow:global_step/sec: 1138.76\n",
      "INFO:tensorflow:loss = 0.0529421, step = 2301 (0.088 sec)\n",
      "INFO:tensorflow:global_step/sec: 1188.15\n",
      "INFO:tensorflow:loss = 0.0501994, step = 2401 (0.084 sec)\n",
      "INFO:tensorflow:global_step/sec: 1157.29\n",
      "INFO:tensorflow:loss = 0.0473037, step = 2501 (0.086 sec)\n",
      "INFO:tensorflow:global_step/sec: 1180.62\n",
      "INFO:tensorflow:loss = 0.0437491, step = 2601 (0.085 sec)\n",
      "INFO:tensorflow:global_step/sec: 1177.22\n",
      "INFO:tensorflow:loss = 0.0432551, step = 2701 (0.085 sec)\n",
      "INFO:tensorflow:global_step/sec: 1189.6\n",
      "INFO:tensorflow:loss = 0.044135, step = 2801 (0.084 sec)\n",
      "INFO:tensorflow:global_step/sec: 1120.67\n",
      "INFO:tensorflow:loss = 0.046411, step = 2901 (0.089 sec)\n",
      "INFO:tensorflow:global_step/sec: 1119.4\n",
      "INFO:tensorflow:loss = 0.0407458, step = 3001 (0.089 sec)\n",
      "INFO:tensorflow:global_step/sec: 1147.31\n",
      "INFO:tensorflow:loss = 0.0371081, step = 3101 (0.087 sec)\n",
      "INFO:tensorflow:global_step/sec: 1162.97\n",
      "INFO:tensorflow:loss = 0.0441511, step = 3201 (0.086 sec)\n",
      "INFO:tensorflow:global_step/sec: 1122.53\n",
      "INFO:tensorflow:loss = 0.0291106, step = 3301 (0.089 sec)\n",
      "INFO:tensorflow:global_step/sec: 1119.96\n",
      "INFO:tensorflow:loss = 0.0314288, step = 3401 (0.089 sec)\n",
      "INFO:tensorflow:global_step/sec: 1113.61\n",
      "INFO:tensorflow:loss = 0.0250161, step = 3501 (0.090 sec)\n",
      "INFO:tensorflow:global_step/sec: 1148.41\n",
      "INFO:tensorflow:loss = 0.0217257, step = 3601 (0.087 sec)\n",
      "INFO:tensorflow:global_step/sec: 1158.24\n",
      "INFO:tensorflow:loss = 0.0192756, step = 3701 (0.086 sec)\n",
      "INFO:tensorflow:global_step/sec: 1165.29\n",
      "INFO:tensorflow:loss = 0.0241851, step = 3801 (0.086 sec)\n",
      "INFO:tensorflow:global_step/sec: 1150.5\n",
      "INFO:tensorflow:loss = 0.0133904, step = 3901 (0.087 sec)\n",
      "INFO:tensorflow:global_step/sec: 1144.22\n",
      "INFO:tensorflow:loss = 0.0111537, step = 4001 (0.087 sec)\n",
      "INFO:tensorflow:global_step/sec: 1113.03\n",
      "INFO:tensorflow:loss = 0.00930418, step = 4101 (0.090 sec)\n",
      "INFO:tensorflow:global_step/sec: 1141.46\n",
      "INFO:tensorflow:loss = 0.00797349, step = 4201 (0.088 sec)\n",
      "INFO:tensorflow:global_step/sec: 1128.54\n",
      "INFO:tensorflow:loss = 0.00676765, step = 4301 (0.089 sec)\n",
      "INFO:tensorflow:global_step/sec: 1128.2\n",
      "INFO:tensorflow:loss = 0.00580774, step = 4401 (0.089 sec)\n",
      "INFO:tensorflow:global_step/sec: 1079.55\n",
      "INFO:tensorflow:loss = 0.00477283, step = 4501 (0.093 sec)\n",
      "INFO:tensorflow:global_step/sec: 1113.87\n",
      "INFO:tensorflow:loss = 0.00439174, step = 4601 (0.090 sec)\n",
      "INFO:tensorflow:global_step/sec: 1143.07\n",
      "INFO:tensorflow:loss = 0.00388016, step = 4701 (0.087 sec)\n",
      "INFO:tensorflow:global_step/sec: 1140.9\n",
      "INFO:tensorflow:loss = 0.00343776, step = 4801 (0.088 sec)\n",
      "INFO:tensorflow:global_step/sec: 1120.33\n",
      "INFO:tensorflow:loss = 0.00305908, step = 4901 (0.089 sec)\n",
      "INFO:tensorflow:Saving checkpoints for 5000 into /var/folders/1s/2bb44zxn1sbd_t_md_znvwj40000gp/T/tmp_1fohiqu/model.ckpt.\n",
      "INFO:tensorflow:Loss for final step: 0.00266444.\n",
      "WARNING:tensorflow:From /Users/moshea/anaconda3/envs/tensorflow/lib/python3.6/site-packages/tensorflow/python/util/deprecation.py:335: calling DNNClassifier.predict (from tensorflow.contrib.learn.python.learn.estimators.dnn) with outputs=None is deprecated and will be removed after 2017-03-01.\n",
      "Instructions for updating:\n",
      "Please switch to predict_classes, or set `outputs` argument.\n",
      "WARNING:tensorflow:From /Users/moshea/anaconda3/envs/tensorflow/lib/python3.6/site-packages/tensorflow/contrib/learn/python/learn/estimators/dnn.py:422: calling BaseEstimator.predict (from tensorflow.contrib.learn.python.learn.estimators.estimator) with x is deprecated and will be removed after 2016-12-01.\n",
      "Instructions for updating:\n",
      "Estimator is decoupled from Scikit Learn interface by moving into\n",
      "separate class SKCompat. Arguments x, y and batch_size are only\n",
      "available in the SKCompat class, Estimator will only accept input_fn.\n",
      "Example conversion:\n",
      "  est = Estimator(...) -> est = SKCompat(Estimator(...))\n",
      "WARNING:tensorflow:float64 is not supported by many models, consider casting to float32.\n",
      "INFO:tensorflow:Restoring parameters from /var/folders/1s/2bb44zxn1sbd_t_md_znvwj40000gp/T/tmp_1fohiqu/model.ckpt-5000\n"
     ]
    }
   ],
   "source": [
    "# ------------------------------------------\n",
    "# TensorFlow Implementation\n",
    "# ------------------------------------------\n",
    "# Building a 3-layer DNN with 50 units each.\n",
    "feature_columns = tf.contrib.learn.infer_real_valued_columns_from_input(x_train)\n",
    "classifier_tf = tf.contrib.learn.DNNClassifier(feature_columns=feature_columns, \n",
    "                                               hidden_units=[50, 50, 50], \n",
    "                                               n_classes=3)\n",
    "classifier_tf.fit(x_train, y_train, steps=5000)\n",
    "predictions = list(classifier_tf.predict(x_test, as_iterable=True))\n",
    "score = metrics.accuracy_score(y_test, predictions)"
   ]
  },
  {
   "cell_type": "code",
   "execution_count": 8,
   "metadata": {},
   "outputs": [
    {
     "name": "stdout",
     "output_type": "stream",
     "text": [
      "TensorFlow Accuracy: 0.977778\n"
     ]
    }
   ],
   "source": [
    "print('TensorFlow Accuracy: {0:f}'.format(score))"
   ]
  },
  {
   "cell_type": "code",
   "execution_count": null,
   "metadata": {},
   "outputs": [],
   "source": []
  }
 ],
 "metadata": {
  "kernelspec": {
   "display_name": "Python 3",
   "language": "python",
   "name": "python3"
  },
  "language_info": {
   "codemirror_mode": {
    "name": "ipython",
    "version": 3
   },
   "file_extension": ".py",
   "mimetype": "text/x-python",
   "name": "python",
   "nbconvert_exporter": "python",
   "pygments_lexer": "ipython3",
   "version": "3.6.4"
  }
 },
 "nbformat": 4,
 "nbformat_minor": 2
}
