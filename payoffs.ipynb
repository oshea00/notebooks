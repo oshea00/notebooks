{
 "cells": [
  {
   "cell_type": "code",
   "execution_count": 330,
   "metadata": {
    "collapsed": true
   },
   "outputs": [],
   "source": [
    "# Some functions for basic option calculations and visualization of \n",
    "# payout diagrams for various trade portfolios - \"synthetic\" options."
   ]
  },
  {
   "cell_type": "code",
   "execution_count": 59,
   "metadata": {},
   "outputs": [],
   "source": [
    "import requests\n",
    "import numpy as np\n",
    "import matplotlib.pyplot as plt\n",
    "from collections import namedtuple\n",
    "%matplotlib inline"
   ]
  },
  {
   "cell_type": "code",
   "execution_count": 35,
   "metadata": {},
   "outputs": [],
   "source": [
    "def getPrice(symbol):\n",
    "    response = requests.get(f\"https://api.iextrading.com/1.0/stock/{symbol}/price\")\n",
    "    if response.status_code == 200:\n",
    "        try:\n",
    "            return float(response.text)\n",
    "        except:\n",
    "            return False\n",
    "    else:\n",
    "        return False"
   ]
  },
  {
   "cell_type": "code",
   "execution_count": 265,
   "metadata": {},
   "outputs": [],
   "source": [
    "def payout(option,spot):\n",
    "    if option.type == \"call\" and option.qty >= 0:\n",
    "        # long call\n",
    "        # bet the spot goes above K, if spot below K I make zero - subtract paid premium\n",
    "        return max(spot - option.K,0) * option.qty - (option.price*option.qty)\n",
    "    if option.type == \"call\" and option.qty < 0:\n",
    "        # short call\n",
    "        # bet that price is below K vs bet the price is above K -\n",
    "        # I only make money (the premium) if the price goes below K. Otherwise max loss is K.\n",
    "        return -max(spot - option.K,0) * abs(option.qty) + (option.price*abs(option.qty))\n",
    "    if option.type == \"put\" and option.qty >= 0:\n",
    "        # long put\n",
    "        # bet the spot goes below K, if spot above K I make zero - subtract paid premium\n",
    "        return max(option.K - spot,0) * option.qty - (option.price*option.qty)\n",
    "    if option.type == \"put\" and option.qty < 0: \n",
    "        # short put\n",
    "        # bet that price is above K vs bet the price is below K -\n",
    "        # I only make money (the premium) if the price goes above K. Otherwise max loss is K.\n",
    "        return -max(option.K - spot,0) * abs(option.qty) + (option.price*abs(option.qty))\n",
    "    # asset holding\n",
    "    if option.qty >= 0:\n",
    "        return spot - option.K\n",
    "    else:\n",
    "        return option.K - spot\n",
    "    "
   ]
  },
  {
   "cell_type": "code",
   "execution_count": 245,
   "metadata": {
    "collapsed": true
   },
   "outputs": [],
   "source": [
    "def payoutgraph(options,price,showsum=True):\n",
    "    res = 100\n",
    "    pricerange = np.linspace(price-10,price+10,res)\n",
    "    sumlines = np.zeros(res)\n",
    "    fig, ax = plt.subplots()\n",
    "    plt.axhline(0, color='black', linewidth=.5)\n",
    "    plt.axvline(price, color='black', linewidth=.5)\n",
    "    for option in options:\n",
    "        pay = [payout(option,spot) for spot in pricerange]\n",
    "        sumlines = sumlines + pay\n",
    "        ax.plot(pricerange,pay)\n",
    "    if showsum:\n",
    "        ax.plot(pricerange,sumlines, color='r',linewidth='2')\n",
    "    plt.show()\n",
    "    plt.close()"
   ]
  },
  {
   "cell_type": "code",
   "execution_count": 326,
   "metadata": {},
   "outputs": [],
   "source": [
    "Option = namedtuple(\"Option\",\"type qty K sym price\")"
   ]
  },
  {
   "cell_type": "code",
   "execution_count": 332,
   "metadata": {
    "collapsed": true
   },
   "outputs": [],
   "source": [
    "AAPL = \"AAPL\"\n",
    "spot = getPrice(AAPL) "
   ]
  },
  {
   "cell_type": "code",
   "execution_count": 339,
   "metadata": {},
   "outputs": [
    {
     "data": {
      "text/plain": [
       "[Option(type='call', qty=1, K=170.91, sym='AAPL', price=2),\n",
       " Option(type='call', qty=-1, K=174.91, sym='AAPL', price=1)]"
      ]
     },
     "execution_count": 339,
     "metadata": {},
     "output_type": "execute_result"
    }
   ],
   "source": [
    "# long call spread.\n",
    "legs = [Option(\"call\",1,spot-2,AAPL,2),\n",
    "       Option(\"call\",-1,spot+2,AAPL,1)]\n",
    "legs\n"
   ]
  },
  {
   "cell_type": "code",
   "execution_count": 340,
   "metadata": {},
   "outputs": [
    {
     "data": {
      "image/png": "[encoded data removed]",
      "text/plain": [
       "<Figure size 432x288 with 1 Axes>"
      ]
     },
     "metadata": {},
     "output_type": "display_data"
    }
   ],
   "source": [
    "payoutgraph(legs,price)"
   ]
  },
  {
   "cell_type": "code",
   "execution_count": null,
   "metadata": {},
   "outputs": [],
   "source": []
  }
 ],
 "metadata": {
  "kernelspec": {
   "display_name": "Python 3",
   "language": "python",
   "name": "python3"
  },
  "language_info": {
   "codemirror_mode": {
    "name": "ipython",
    "version": 3
   },
   "file_extension": ".py",
   "mimetype": "text/x-python",
   "name": "python",
   "nbconvert_exporter": "python",
   "pygments_lexer": "ipython3",
   "version": "3.6.8"
  }
 },
 "nbformat": 4,
 "nbformat_minor": 2
}
